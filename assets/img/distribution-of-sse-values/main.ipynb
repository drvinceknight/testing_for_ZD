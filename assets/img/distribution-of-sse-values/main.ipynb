{
 "cells": [
  {
   "cell_type": "code",
   "execution_count": 45,
   "metadata": {},
   "outputs": [],
   "source": [
    "import pandas as pd\n",
    "import matplotlib.pyplot as plt\n",
    "import numpy as np\n",
    "\n",
    "import imp"
   ]
  },
  {
   "cell_type": "code",
   "execution_count": 46,
   "metadata": {},
   "outputs": [],
   "source": [
    "parameters = imp.load_source('parameters', '../../../data/raw/parameters.py')"
   ]
  },
  {
   "cell_type": "code",
   "execution_count": 47,
   "metadata": {},
   "outputs": [
    {
     "data": {
      "text/html": [
       "<div>\n",
       "<style scoped>\n",
       "    .dataframe tbody tr th:only-of-type {\n",
       "        vertical-align: middle;\n",
       "    }\n",
       "\n",
       "    .dataframe tbody tr th {\n",
       "        vertical-align: top;\n",
       "    }\n",
       "\n",
       "    .dataframe thead th {\n",
       "        text-align: right;\n",
       "    }\n",
       "</style>\n",
       "<table border=\"1\" class=\"dataframe\">\n",
       "  <thead>\n",
       "    <tr style=\"text-align: right;\">\n",
       "      <th></th>\n",
       "      <th>Player index</th>\n",
       "      <th>Opponent index</th>\n",
       "      <th>complete</th>\n",
       "      <th>Score</th>\n",
       "      <th>P(C|CC)</th>\n",
       "      <th>P(C|CD)</th>\n",
       "      <th>P(C|DC)</th>\n",
       "      <th>P(C|DD)</th>\n",
       "      <th>P(CC)</th>\n",
       "      <th>P(CD)</th>\n",
       "      <th>P(DC)</th>\n",
       "      <th>P(DD)</th>\n",
       "      <th>residual</th>\n",
       "      <th>alpha</th>\n",
       "      <th>beta</th>\n",
       "      <th>chi</th>\n",
       "      <th>computed_residual</th>\n",
       "      <th>computed_alpha</th>\n",
       "      <th>computed_beta</th>\n",
       "      <th>computed_chi</th>\n",
       "    </tr>\n",
       "  </thead>\n",
       "  <tbody>\n",
       "    <tr>\n",
       "      <th>0</th>\n",
       "      <td>0</td>\n",
       "      <td>0</td>\n",
       "      <td>False</td>\n",
       "      <td>718800</td>\n",
       "      <td>0.999498</td>\n",
       "      <td>NaN</td>\n",
       "      <td>NaN</td>\n",
       "      <td>0.20</td>\n",
       "      <td>0.99750</td>\n",
       "      <td>0.00000</td>\n",
       "      <td>0.000000</td>\n",
       "      <td>0.002500</td>\n",
       "      <td>NaN</td>\n",
       "      <td>NaN</td>\n",
       "      <td>NaN</td>\n",
       "      <td>NaN</td>\n",
       "      <td>NaN</td>\n",
       "      <td>NaN</td>\n",
       "      <td>NaN</td>\n",
       "      <td>NaN</td>\n",
       "    </tr>\n",
       "    <tr>\n",
       "      <th>1</th>\n",
       "      <td>0</td>\n",
       "      <td>1</td>\n",
       "      <td>True</td>\n",
       "      <td>359460</td>\n",
       "      <td>0.999498</td>\n",
       "      <td>1.000000</td>\n",
       "      <td>0.0</td>\n",
       "      <td>0.25</td>\n",
       "      <td>0.99700</td>\n",
       "      <td>0.00050</td>\n",
       "      <td>0.000500</td>\n",
       "      <td>0.002000</td>\n",
       "      <td>1.332843e-07</td>\n",
       "      <td>-0.000059</td>\n",
       "      <td>-0.000059</td>\n",
       "      <td>-1.000000</td>\n",
       "      <td>1.332843e-07</td>\n",
       "      <td>-0.000059</td>\n",
       "      <td>-0.000059</td>\n",
       "      <td>-1.000000</td>\n",
       "    </tr>\n",
       "    <tr>\n",
       "      <th>2</th>\n",
       "      <td>0</td>\n",
       "      <td>2</td>\n",
       "      <td>True</td>\n",
       "      <td>120420</td>\n",
       "      <td>0.666667</td>\n",
       "      <td>1.000000</td>\n",
       "      <td>0.0</td>\n",
       "      <td>0.00</td>\n",
       "      <td>0.00150</td>\n",
       "      <td>0.00150</td>\n",
       "      <td>0.000500</td>\n",
       "      <td>0.996500</td>\n",
       "      <td>5.882353e-02</td>\n",
       "      <td>-0.039216</td>\n",
       "      <td>-0.039216</td>\n",
       "      <td>-1.000000</td>\n",
       "      <td>5.882353e-02</td>\n",
       "      <td>-0.039216</td>\n",
       "      <td>-0.039216</td>\n",
       "      <td>-1.000000</td>\n",
       "    </tr>\n",
       "    <tr>\n",
       "      <th>3</th>\n",
       "      <td>0</td>\n",
       "      <td>3</td>\n",
       "      <td>True</td>\n",
       "      <td>359280</td>\n",
       "      <td>0.999498</td>\n",
       "      <td>1.000000</td>\n",
       "      <td>0.0</td>\n",
       "      <td>0.25</td>\n",
       "      <td>0.99650</td>\n",
       "      <td>0.00100</td>\n",
       "      <td>0.000500</td>\n",
       "      <td>0.002000</td>\n",
       "      <td>1.332843e-07</td>\n",
       "      <td>-0.000059</td>\n",
       "      <td>-0.000059</td>\n",
       "      <td>-1.000000</td>\n",
       "      <td>1.332843e-07</td>\n",
       "      <td>-0.000059</td>\n",
       "      <td>-0.000059</td>\n",
       "      <td>-1.000000</td>\n",
       "    </tr>\n",
       "    <tr>\n",
       "      <th>4</th>\n",
       "      <td>0</td>\n",
       "      <td>4</td>\n",
       "      <td>True</td>\n",
       "      <td>367454</td>\n",
       "      <td>0.833333</td>\n",
       "      <td>0.833333</td>\n",
       "      <td>0.0</td>\n",
       "      <td>0.00</td>\n",
       "      <td>0.00155</td>\n",
       "      <td>0.00145</td>\n",
       "      <td>0.515117</td>\n",
       "      <td>0.481883</td>\n",
       "      <td>1.633987e-03</td>\n",
       "      <td>-0.017647</td>\n",
       "      <td>-0.050980</td>\n",
       "      <td>-2.888889</td>\n",
       "      <td>1.633987e-03</td>\n",
       "      <td>-0.017647</td>\n",
       "      <td>-0.050980</td>\n",
       "      <td>-2.888889</td>\n",
       "    </tr>\n",
       "  </tbody>\n",
       "</table>\n",
       "</div>"
      ],
      "text/plain": [
       "   Player index  Opponent index  complete   Score   P(C|CC)   P(C|CD)  \\\n",
       "0             0               0     False  718800  0.999498       NaN   \n",
       "1             0               1      True  359460  0.999498  1.000000   \n",
       "2             0               2      True  120420  0.666667  1.000000   \n",
       "3             0               3      True  359280  0.999498  1.000000   \n",
       "4             0               4      True  367454  0.833333  0.833333   \n",
       "\n",
       "   P(C|DC)  P(C|DD)    P(CC)    P(CD)     P(DC)     P(DD)      residual  \\\n",
       "0      NaN     0.20  0.99750  0.00000  0.000000  0.002500           NaN   \n",
       "1      0.0     0.25  0.99700  0.00050  0.000500  0.002000  1.332843e-07   \n",
       "2      0.0     0.00  0.00150  0.00150  0.000500  0.996500  5.882353e-02   \n",
       "3      0.0     0.25  0.99650  0.00100  0.000500  0.002000  1.332843e-07   \n",
       "4      0.0     0.00  0.00155  0.00145  0.515117  0.481883  1.633987e-03   \n",
       "\n",
       "      alpha      beta       chi  computed_residual  computed_alpha  \\\n",
       "0       NaN       NaN       NaN                NaN             NaN   \n",
       "1 -0.000059 -0.000059 -1.000000       1.332843e-07       -0.000059   \n",
       "2 -0.039216 -0.039216 -1.000000       5.882353e-02       -0.039216   \n",
       "3 -0.000059 -0.000059 -1.000000       1.332843e-07       -0.000059   \n",
       "4 -0.017647 -0.050980 -2.888889       1.633987e-03       -0.017647   \n",
       "\n",
       "   computed_beta  computed_chi  \n",
       "0            NaN           NaN  \n",
       "1      -0.000059     -1.000000  \n",
       "2      -0.039216     -1.000000  \n",
       "3      -0.000059     -1.000000  \n",
       "4      -0.050980     -2.888889  "
      ]
     },
     "execution_count": 47,
     "metadata": {},
     "output_type": "execute_result"
    }
   ],
   "source": [
    "df = pd.read_csv(\"../../../data/processed/full/std/per_opponent/main.csv\")\n",
    "df.head()"
   ]
  },
  {
   "cell_type": "code",
   "execution_count": 48,
   "metadata": {},
   "outputs": [],
   "source": [
    "strategy_names = [player.name for player in parameters.PLAYER_GROUPS[\"full\"]]\n",
    "strategies_of_interest = imp.load_source('replicator_dynamics', '../replicator_dynamics/main.py').strategies_of_interest"
   ]
  },
  {
   "cell_type": "code",
   "execution_count": 49,
   "metadata": {},
   "outputs": [
    {
     "data": {
      "text/plain": [
       "[(195, 'ZD-GTFT-2'),\n",
       " (196, 'ZD-GEN-2'),\n",
       " (191, 'ZD-Extort-2'),\n",
       " (56, 'EvolvedLookerUp2_2_2'),\n",
       " (50, 'Evolved ANN 5'),\n",
       " (169, 'Tit For Tat'),\n",
       " (184, 'Win-Stay Lose-Shift')]"
      ]
     },
     "execution_count": 49,
     "metadata": {},
     "output_type": "execute_result"
    }
   ],
   "source": [
    "indices_of_interest = [(strategy_names.index(player), player) for player in strategies_of_interest]\n",
    "indices_of_interest"
   ]
  },
  {
   "cell_type": "code",
   "execution_count": 62,
   "metadata": {},
   "outputs": [
    {
     "data": {
      "image/png": "[encoded data removed]",
      "text/plain": [
       "<Figure size 720x1440 with 7 Axes>"
      ]
     },
     "metadata": {},
     "output_type": "display_data"
    }
   ],
   "source": [
    "fig, axarr = plt.subplots(len(strategies_of_interest), figsize=(10, 20))\n",
    "\n",
    "for ax, (i, name) in zip(axarr, indices_of_interest):\n",
    "    \n",
    "    values = df[df[\"Player index\"] == i][\"residual\"].dropna()\n",
    "    ax.hist(values, bins=20)\n",
    "    ax.set_title(f\"{name}: $\\\\bar x=${np.mean(values):01f}\")\n",
    "fig.tight_layout()"
   ]
  },
  {
   "cell_type": "code",
   "execution_count": null,
   "metadata": {},
   "outputs": [],
   "source": []
  }
 ],
 "metadata": {
  "kernelspec": {
   "display_name": "Python [conda env:testing-zd]",
   "language": "python",
   "name": "conda-env-testing-zd-py"
  },
  "language_info": {
   "codemirror_mode": {
    "name": "ipython",
    "version": 3
   },
   "file_extension": ".py",
   "mimetype": "text/x-python",
   "name": "python",
   "nbconvert_exporter": "python",
   "pygments_lexer": "ipython3",
   "version": "3.6.5"
  }
 },
 "nbformat": 4,
 "nbformat_minor": 2
}
