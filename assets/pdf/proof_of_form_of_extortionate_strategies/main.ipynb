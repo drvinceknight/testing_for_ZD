{
 "cells": [
  {
   "cell_type": "code",
   "execution_count": 173,
   "metadata": {},
   "outputs": [],
   "source": [
    "import sympy as sym"
   ]
  },
  {
   "cell_type": "markdown",
   "metadata": {},
   "source": [
    "This notebook verifies the various algebraic steps required to prove the general form of an extortionate strategy $p\\in\\mathbb{R}^{4\\times 1}$:"
   ]
  },
  {
   "cell_type": "code",
   "execution_count": 174,
   "metadata": {},
   "outputs": [
    {
     "data": {
      "text/plain": [
       "(tilde_p1, tilde_p2, tilde_p3, tilde_p4)"
      ]
     },
     "execution_count": 174,
     "metadata": {},
     "output_type": "execute_result"
    }
   ],
   "source": [
    "tilde_p = sym.symbols(\"tilde_p1:5\")\n",
    "R, S, T, P = sym.symbols(\"R, S, T, P\")\n",
    "alpha, beta = sym.symbols(\"alpha, beta\")\n",
    "tilde_p"
   ]
  },
  {
   "cell_type": "code",
   "execution_count": 175,
   "metadata": {},
   "outputs": [],
   "source": [
    "eqn_1 = sym.Eq(tilde_p[0], alpha * (R - P) + beta * (R - P))\n",
    "eqn_2 = sym.Eq(tilde_p[1], alpha * (S - P) + beta * (T - P))\n",
    "eqn_3 = sym.Eq(tilde_p[2], alpha * (T - P) + beta * (S - P))\n",
    "eqn_4 = sym.Eq(tilde_p[3], 0)"
   ]
  },
  {
   "cell_type": "code",
   "execution_count": 176,
   "metadata": {},
   "outputs": [
    {
     "data": {
      "text/plain": [
       "(-beta*(P - T) - tilde_p2)/(P - S)"
      ]
     },
     "execution_count": 176,
     "metadata": {},
     "output_type": "execute_result"
    }
   ],
   "source": [
    "solved_alpha = sym.solveset(eqn_2, alpha).args[0]\n",
    "solved_alpha"
   ]
  },
  {
   "cell_type": "markdown",
   "metadata": {},
   "source": [
    "Formula for $\\beta$:"
   ]
  },
  {
   "cell_type": "code",
   "execution_count": 177,
   "metadata": {},
   "outputs": [
    {
     "data": {
      "text/plain": [
       "(P*tilde_p2 - P*tilde_p3 + S*tilde_p3 - T*tilde_p2)/((S - T)*(-2*P + S + T))"
      ]
     },
     "execution_count": 177,
     "metadata": {},
     "output_type": "execute_result"
    }
   ],
   "source": [
    "solved_beta = sym.solveset(eqn_3.subs({alpha: solved_alpha}), beta).args[0]\n",
    "sym.simplify(solved_beta)"
   ]
  },
  {
   "cell_type": "markdown",
   "metadata": {},
   "source": [
    "Formula for $\\alpha$:"
   ]
  },
  {
   "cell_type": "code",
   "execution_count": 178,
   "metadata": {},
   "outputs": [
    {
     "data": {
      "text/plain": [
       "(P*tilde_p2 - P*tilde_p3 - S*tilde_p2 + T*tilde_p3)/(2*P*S - 2*P*T - S**2 + T**2)"
      ]
     },
     "execution_count": 178,
     "metadata": {},
     "output_type": "execute_result"
    }
   ],
   "source": [
    "solved_alpha = solved_alpha.subs({beta: solved_beta})\n",
    "sym.simplify(solved_alpha)"
   ]
  },
  {
   "cell_type": "markdown",
   "metadata": {},
   "source": [
    "Formula for $p_1$:"
   ]
  },
  {
   "cell_type": "code",
   "execution_count": 179,
   "metadata": {},
   "outputs": [
    {
     "data": {
      "text/plain": [
       "Eq(tilde_p1, (P*tilde_p2 + P*tilde_p3 - R*tilde_p2 - R*tilde_p3)/(2*P - S - T))"
      ]
     },
     "execution_count": 179,
     "metadata": {},
     "output_type": "execute_result"
    }
   ],
   "source": [
    "sym.simplify(eqn_1.subs({alpha: solved_alpha, beta: solved_beta}))"
   ]
  },
  {
   "cell_type": "markdown",
   "metadata": {},
   "source": [
    "Formula for $\\chi$:"
   ]
  },
  {
   "cell_type": "code",
   "execution_count": 180,
   "metadata": {},
   "outputs": [
    {
     "data": {
      "text/plain": [
       "(P*tilde_p2 - P*tilde_p3 + S*tilde_p3 - T*tilde_p2)/(P*tilde_p2 - P*tilde_p3 - S*tilde_p2 + T*tilde_p3)"
      ]
     },
     "execution_count": 180,
     "metadata": {},
     "output_type": "execute_result"
    }
   ],
   "source": [
    "sym.simplify(- solved_beta / solved_alpha)"
   ]
  },
  {
   "cell_type": "markdown",
   "metadata": {},
   "source": [
    "Formula for $\\text{SSError}$:"
   ]
  },
  {
   "cell_type": "code",
   "execution_count": 181,
   "metadata": {},
   "outputs": [],
   "source": [
    "SSError = ((alpha * R + beta * R - P * (alpha + beta) - tilde_p[0]) ** 2 + \n",
    "           (alpha * S + beta * T - P * (alpha + beta) - tilde_p[1]) ** 2 + \n",
    "           (alpha * T + beta * S - P * (alpha + beta) - tilde_p[2]) ** 2)\n",
    "\n",
    "SSError = SSError.subs({eqn_1.subs({alpha: solved_alpha, beta: solved_beta}).lhs:\n",
    "                        eqn_1.subs({alpha: solved_alpha, beta: solved_beta}).rhs}).simplify()"
   ]
  },
  {
   "cell_type": "code",
   "execution_count": 182,
   "metadata": {},
   "outputs": [
    {
     "data": {
      "text/plain": [
       "((P - S)**2*(S - T)**2*((P*(alpha + beta) - S*alpha - T*beta + tilde_p2)**2 + (P*(alpha + beta) - S*beta - T*alpha + tilde_p3)**2)*(-2*P + S + T)**2 + ((P - R)*(P - S)*(P*tilde_p2 - P*tilde_p3 + S*tilde_p3 - T*tilde_p2) - (P - R)*(tilde_p2*(S - T)*(-2*P + S + T) + (P - T)*(P*tilde_p2 - P*tilde_p3 + S*tilde_p3 - T*tilde_p2)) + (P - S)*(S - T)*(-2*P + S + T)*(-P*(alpha + beta) + R*alpha + R*beta))**2)/((P - S)**2*(S - T)**2*(-2*P + S + T)**2)"
      ]
     },
     "execution_count": 182,
     "metadata": {},
     "output_type": "execute_result"
    }
   ],
   "source": [
    "SSError"
   ]
  },
  {
   "cell_type": "markdown",
   "metadata": {},
   "source": [
    "Finding optimal value of $\\alpha, \\beta$:"
   ]
  },
  {
   "cell_type": "code",
   "execution_count": 183,
   "metadata": {},
   "outputs": [
    {
     "data": {
      "text/plain": [
       "{4*beta/21 + tilde_p2/63 + 16*tilde_p3/63}"
      ]
     },
     "execution_count": 183,
     "metadata": {},
     "output_type": "execute_result"
    }
   ],
   "source": [
    "eqn_alpha = sym.solveset(sym.diff(SSError, alpha), alpha).subs({R: 3, P: 1, S: 0, T: 5})\n",
    "eqn_alpha"
   ]
  },
  {
   "cell_type": "code",
   "execution_count": 184,
   "metadata": {},
   "outputs": [
    {
     "data": {
      "text/plain": [
       "4*tilde_p2/15 + tilde_p3/15"
      ]
     },
     "execution_count": 184,
     "metadata": {},
     "output_type": "execute_result"
    }
   ],
   "source": [
    "eqn_beta = sym.solveset(sym.diff(SSError, beta).subs({alpha: eqn_alpha.args[0]}), beta).subs({R: 3, P: 1, S: 0, T: 5})\n",
    "opt_beta = eqn_beta.args[0]\n",
    "opt_beta"
   ]
  },
  {
   "cell_type": "code",
   "execution_count": 185,
   "metadata": {},
   "outputs": [
    {
     "data": {
      "text/plain": [
       "-1/9"
      ]
     },
     "execution_count": 185,
     "metadata": {},
     "output_type": "execute_result"
    }
   ],
   "source": [
    "opt_beta.subs({tilde_p[1]: -sym.S(1) / 2, tilde_p[2]: sym.S(1) / 3})"
   ]
  },
  {
   "cell_type": "code",
   "execution_count": 186,
   "metadata": {},
   "outputs": [
    {
     "data": {
      "text/plain": [
       "1/18"
      ]
     },
     "execution_count": 186,
     "metadata": {},
     "output_type": "execute_result"
    }
   ],
   "source": [
    "opt_alpha = eqn_alpha.args[0].subs({beta: opt_beta})\n",
    "opt_alpha.subs({tilde_p[1]: -sym.S(1) / 2, tilde_p[2]: sym.S(1) / 3})"
   ]
  },
  {
   "cell_type": "code",
   "execution_count": 188,
   "metadata": {},
   "outputs": [
    {
     "data": {
      "text/plain": [
       "tilde_p2/15 + 4*tilde_p3/15"
      ]
     },
     "execution_count": 188,
     "metadata": {},
     "output_type": "execute_result"
    }
   ],
   "source": [
    "opt_alpha"
   ]
  },
  {
   "cell_type": "code",
   "execution_count": 201,
   "metadata": {},
   "outputs": [
    {
     "data": {
      "text/plain": [
       "(2*(-P + R)*(P - S)*(S - T)*(-2*P + S + T)*((P - R)*(P - S)*(P*tilde_p2 - P*tilde_p3 + S*tilde_p3 - T*tilde_p2) - (P - R)*(tilde_p2*(S - T)*(-2*P + S + T) + (P - T)*(P*tilde_p2 - P*tilde_p3 + S*tilde_p3 - T*tilde_p2)) + (P - S)*(S - T)*(-2*P + S + T)*(-P*(tilde_p2/3 + tilde_p3/3) + R*(tilde_p2/15 + 4*tilde_p3/15) + R*(4*tilde_p2/15 + tilde_p3/15))) + (P - S)**2*(S - T)**2*((2*P - 2*S)*(P*(tilde_p2/3 + tilde_p3/3) - S*(tilde_p2/15 + 4*tilde_p3/15) - T*(4*tilde_p2/15 + tilde_p3/15) + tilde_p2) + (2*P - 2*T)*(P*(tilde_p2/3 + tilde_p3/3) - S*(4*tilde_p2/15 + tilde_p3/15) - T*(tilde_p2/15 + 4*tilde_p3/15) + tilde_p3))*(-2*P + S + T)**2)/((P - S)**2*(S - T)**2*(-2*P + S + T)**2)"
      ]
     },
     "execution_count": 201,
     "metadata": {},
     "output_type": "execute_result"
    }
   ],
   "source": [
    "sym.diff(SSError, alpha).subs({alpha: opt_alpha, beta:opt_beta})"
   ]
  },
  {
   "cell_type": "code",
   "execution_count": 189,
   "metadata": {},
   "outputs": [
    {
     "data": {
      "text/plain": [
       "0"
      ]
     },
     "execution_count": 189,
     "metadata": {},
     "output_type": "execute_result"
    }
   ],
   "source": [
    "particular_SSError = SSError.subs({R: 3, P: 1, S: 0, T: 5, alpha:opt_alpha, beta:opt_beta}).factor()\n",
    "particular_SSError"
   ]
  },
  {
   "cell_type": "markdown",
   "metadata": {},
   "source": [
    "Experimenting with a know extortionate strategy we should recover the actual values of $\\alpha, \\beta$:"
   ]
  },
  {
   "cell_type": "code",
   "execution_count": 190,
   "metadata": {},
   "outputs": [
    {
     "data": {
      "text/plain": [
       "0"
      ]
     },
     "execution_count": 190,
     "metadata": {},
     "output_type": "execute_result"
    }
   ],
   "source": [
    "particular_SSError.subs({tilde_p[1]: -sym.S(1) / 2, tilde_p[2]: sym.S(1) / 3})"
   ]
  },
  {
   "cell_type": "markdown",
   "metadata": {},
   "source": [
    "Something doesn't seem right here, I need to check through carefully..."
   ]
  },
  {
   "cell_type": "code",
   "execution_count": 191,
   "metadata": {},
   "outputs": [
    {
     "data": {
      "text/plain": [
       "-1/9"
      ]
     },
     "execution_count": 191,
     "metadata": {},
     "output_type": "execute_result"
    }
   ],
   "source": [
    "solved_beta.subs({R: 3, P: 1, S: 0, T: 5, tilde_p[1]: -sym.S(1) / 2, tilde_p[2]: sym.S(1) / 3})"
   ]
  },
  {
   "cell_type": "code",
   "execution_count": 192,
   "metadata": {},
   "outputs": [
    {
     "data": {
      "text/plain": [
       "1/18"
      ]
     },
     "execution_count": 192,
     "metadata": {},
     "output_type": "execute_result"
    }
   ],
   "source": [
    "solved_alpha.subs({R: 3, P: 1, S: 0, T: 5, tilde_p[1]: -sym.S(1) / 2, tilde_p[2]: sym.S(1) / 3})"
   ]
  },
  {
   "cell_type": "code",
   "execution_count": 193,
   "metadata": {},
   "outputs": [
    {
     "data": {
      "text/plain": [
       "0"
      ]
     },
     "execution_count": 193,
     "metadata": {},
     "output_type": "execute_result"
    }
   ],
   "source": [
    "SSError.subs({tilde_p[1]: -sym.S(1) / 2, tilde_p[2]: sym.S(1) / 3, alpha: solved_alpha, beta:solved_beta}).subs({R: 3, P: 1, S: 0, T: 5})"
   ]
  },
  {
   "cell_type": "code",
   "execution_count": 194,
   "metadata": {},
   "outputs": [
    {
     "data": {
      "text/plain": [
       "0"
      ]
     },
     "execution_count": 194,
     "metadata": {},
     "output_type": "execute_result"
    }
   ],
   "source": [
    "sym.diff(SSError, beta).subs({beta:solved_beta, alpha:solved_alpha}).subs({R: 3, P: 1, S: 0, T: 5})"
   ]
  },
  {
   "cell_type": "code",
   "execution_count": 195,
   "metadata": {},
   "outputs": [
    {
     "data": {
      "text/plain": [
       "0"
      ]
     },
     "execution_count": 195,
     "metadata": {},
     "output_type": "execute_result"
    }
   ],
   "source": [
    "sym.diff(SSError, alpha).subs({beta:solved_beta, alpha:solved_alpha}).subs({R: 3, P: 1, S: 0, T: 5})"
   ]
  }
 ],
 "metadata": {
  "anaconda-cloud": {},
  "kernelspec": {
   "display_name": "Python [conda env:gt]",
   "language": "python",
   "name": "conda-env-gt-py"
  },
  "language_info": {
   "codemirror_mode": {
    "name": "ipython",
    "version": 3
   },
   "file_extension": ".py",
   "mimetype": "text/x-python",
   "name": "python",
   "nbconvert_exporter": "python",
   "pygments_lexer": "ipython3",
   "version": "3.6.1"
  }
 },
 "nbformat": 4,
 "nbformat_minor": 2
}
