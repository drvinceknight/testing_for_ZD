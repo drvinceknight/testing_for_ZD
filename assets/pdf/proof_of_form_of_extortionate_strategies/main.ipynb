{
 "cells": [
  {
   "cell_type": "code",
   "execution_count": 1,
   "metadata": {},
   "outputs": [],
   "source": [
    "import sympy as sym\n",
    "import numpy as np\n",
    "\n",
    "import testzd as zd"
   ]
  },
  {
   "cell_type": "markdown",
   "metadata": {},
   "source": [
    "This notebook verifies the various algebraic steps required to prove the general form of an extortionate strategy $p\\in\\mathbb{R}^{4\\times 1}$:"
   ]
  },
  {
   "cell_type": "code",
   "execution_count": 2,
   "metadata": {},
   "outputs": [
    {
     "data": {
      "text/plain": [
       "(tilde_p1, tilde_p2, tilde_p3, tilde_p4)"
      ]
     },
     "execution_count": 2,
     "metadata": {},
     "output_type": "execute_result"
    }
   ],
   "source": [
    "tilde_p = sym.symbols(\"tilde_p1:5\")\n",
    "R, S, T, P = sym.symbols(\"R, S, T, P\")\n",
    "alpha, beta = sym.symbols(\"alpha, beta\")\n",
    "tilde_p"
   ]
  },
  {
   "cell_type": "code",
   "execution_count": 3,
   "metadata": {},
   "outputs": [],
   "source": [
    "eqn_1 = sym.Eq(tilde_p[0], alpha * (R - P) + beta * (R - P))\n",
    "eqn_2 = sym.Eq(tilde_p[1], alpha * (S - P) + beta * (T - P))\n",
    "eqn_3 = sym.Eq(tilde_p[2], alpha * (T - P) + beta * (S - P))\n",
    "eqn_4 = sym.Eq(tilde_p[3], 0)"
   ]
  },
  {
   "cell_type": "code",
   "execution_count": 4,
   "metadata": {},
   "outputs": [
    {
     "data": {
      "text/plain": [
       "(-beta*(P - T) - tilde_p2)/(P - S)"
      ]
     },
     "execution_count": 4,
     "metadata": {},
     "output_type": "execute_result"
    }
   ],
   "source": [
    "solved_alpha = sym.solveset(eqn_2, alpha).args[0]\n",
    "solved_alpha"
   ]
  },
  {
   "cell_type": "markdown",
   "metadata": {},
   "source": [
    "Formula for $\\beta$:"
   ]
  },
  {
   "cell_type": "code",
   "execution_count": 5,
   "metadata": {},
   "outputs": [
    {
     "data": {
      "text/plain": [
       "(P*tilde_p2 - P*tilde_p3 + S*tilde_p3 - T*tilde_p2)/((S - T)*(-2*P + S + T))"
      ]
     },
     "execution_count": 5,
     "metadata": {},
     "output_type": "execute_result"
    }
   ],
   "source": [
    "solved_beta = sym.solveset(eqn_3.subs({alpha: solved_alpha}), beta).args[0]\n",
    "sym.simplify(solved_beta)"
   ]
  },
  {
   "cell_type": "markdown",
   "metadata": {},
   "source": [
    "Formula for $\\alpha$:"
   ]
  },
  {
   "cell_type": "code",
   "execution_count": 6,
   "metadata": {},
   "outputs": [
    {
     "data": {
      "text/plain": [
       "(P*tilde_p2 - P*tilde_p3 - S*tilde_p2 + T*tilde_p3)/(2*P*S - 2*P*T - S**2 + T**2)"
      ]
     },
     "execution_count": 6,
     "metadata": {},
     "output_type": "execute_result"
    }
   ],
   "source": [
    "solved_alpha = solved_alpha.subs({beta: solved_beta})\n",
    "sym.simplify(solved_alpha)"
   ]
  },
  {
   "cell_type": "markdown",
   "metadata": {},
   "source": [
    "Formula for $p_1$:"
   ]
  },
  {
   "cell_type": "code",
   "execution_count": 7,
   "metadata": {},
   "outputs": [
    {
     "data": {
      "text/plain": [
       "Eq(tilde_p1, (P*tilde_p2 + P*tilde_p3 - R*tilde_p2 - R*tilde_p3)/(2*P - S - T))"
      ]
     },
     "execution_count": 7,
     "metadata": {},
     "output_type": "execute_result"
    }
   ],
   "source": [
    "sym.simplify(eqn_1.subs({alpha: solved_alpha, beta: solved_beta}))"
   ]
  },
  {
   "cell_type": "markdown",
   "metadata": {},
   "source": [
    "Formula for $\\chi$:"
   ]
  },
  {
   "cell_type": "code",
   "execution_count": 8,
   "metadata": {},
   "outputs": [
    {
     "data": {
      "text/plain": [
       "(P*tilde_p2 - P*tilde_p3 + S*tilde_p3 - T*tilde_p2)/(P*tilde_p2 - P*tilde_p3 - S*tilde_p2 + T*tilde_p3)"
      ]
     },
     "execution_count": 8,
     "metadata": {},
     "output_type": "execute_result"
    }
   ],
   "source": [
    "sym.simplify(- solved_beta / solved_alpha)"
   ]
  }
 ],
 "metadata": {
  "anaconda-cloud": {},
  "kernelspec": {
   "display_name": "Python [conda env:testing-zd]",
   "language": "python",
   "name": "conda-env-testing-zd-py"
  },
  "language_info": {
   "codemirror_mode": {
    "name": "ipython",
    "version": 3
   },
   "file_extension": ".py",
   "mimetype": "text/x-python",
   "name": "python",
   "nbconvert_exporter": "python",
   "pygments_lexer": "ipython3",
   "version": "3.6.5"
  }
 },
 "nbformat": 4,
 "nbformat_minor": 2
}
