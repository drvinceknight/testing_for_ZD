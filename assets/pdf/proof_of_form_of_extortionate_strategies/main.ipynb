{
 "cells": [
  {
   "cell_type": "code",
   "execution_count": 1,
   "metadata": {},
   "outputs": [],
   "source": [
    "import sympy as sym\n",
    "import numpy as np\n",
    "\n",
    "import testzd as zd"
   ]
  },
  {
   "cell_type": "markdown",
   "metadata": {},
   "source": [
    "This notebook verifies the various algebraic steps required to prove the general form of an extortionate strategy $p\\in\\mathbb{R}^{4\\times 1}$:"
   ]
  },
  {
   "cell_type": "code",
   "execution_count": 2,
   "metadata": {},
   "outputs": [
    {
     "data": {
      "text/plain": [
       "(tilde_p1, tilde_p2, tilde_p3, tilde_p4)"
      ]
     },
     "execution_count": 2,
     "metadata": {},
     "output_type": "execute_result"
    }
   ],
   "source": [
    "tilde_p = sym.symbols(\"tilde_p1:5\")\n",
    "R, S, T, P = sym.symbols(\"R, S, T, P\")\n",
    "alpha, beta = sym.symbols(\"alpha, beta\")\n",
    "tilde_p"
   ]
  },
  {
   "cell_type": "code",
   "execution_count": 3,
   "metadata": {},
   "outputs": [],
   "source": [
    "eqn_1 = sym.Eq(tilde_p[0], alpha * (R - P) + beta * (R - P))\n",
    "eqn_2 = sym.Eq(tilde_p[1], alpha * (S - P) + beta * (T - P))\n",
    "eqn_3 = sym.Eq(tilde_p[2], alpha * (T - P) + beta * (S - P))\n",
    "eqn_4 = sym.Eq(tilde_p[3], 0)"
   ]
  },
  {
   "cell_type": "code",
   "execution_count": 4,
   "metadata": {},
   "outputs": [
    {
     "data": {
      "text/plain": [
       "(-beta*(P - T) - tilde_p2)/(P - S)"
      ]
     },
     "execution_count": 4,
     "metadata": {},
     "output_type": "execute_result"
    }
   ],
   "source": [
    "solved_alpha = sym.solveset(eqn_2, alpha).args[0]\n",
    "solved_alpha"
   ]
  },
  {
   "cell_type": "markdown",
   "metadata": {},
   "source": [
    "Formula for $\\beta$:"
   ]
  },
  {
   "cell_type": "code",
   "execution_count": 5,
   "metadata": {},
   "outputs": [
    {
     "data": {
      "text/plain": [
       "(P*tilde_p2 - P*tilde_p3 + S*tilde_p3 - T*tilde_p2)/((S - T)*(-2*P + S + T))"
      ]
     },
     "execution_count": 5,
     "metadata": {},
     "output_type": "execute_result"
    }
   ],
   "source": [
    "solved_beta = sym.solveset(eqn_3.subs({alpha: solved_alpha}), beta).args[0]\n",
    "sym.simplify(solved_beta)"
   ]
  },
  {
   "cell_type": "markdown",
   "metadata": {},
   "source": [
    "Formula for $\\alpha$:"
   ]
  },
  {
   "cell_type": "code",
   "execution_count": 6,
   "metadata": {},
   "outputs": [
    {
     "data": {
      "text/plain": [
       "(P*tilde_p2 - P*tilde_p3 - S*tilde_p2 + T*tilde_p3)/(2*P*S - 2*P*T - S**2 + T**2)"
      ]
     },
     "execution_count": 6,
     "metadata": {},
     "output_type": "execute_result"
    }
   ],
   "source": [
    "solved_alpha = solved_alpha.subs({beta: solved_beta})\n",
    "sym.simplify(solved_alpha)"
   ]
  },
  {
   "cell_type": "markdown",
   "metadata": {},
   "source": [
    "Formula for $p_1$:"
   ]
  },
  {
   "cell_type": "code",
   "execution_count": 7,
   "metadata": {},
   "outputs": [
    {
     "data": {
      "text/plain": [
       "Eq(tilde_p1, (P*tilde_p2 + P*tilde_p3 - R*tilde_p2 - R*tilde_p3)/(2*P - S - T))"
      ]
     },
     "execution_count": 7,
     "metadata": {},
     "output_type": "execute_result"
    }
   ],
   "source": [
    "sym.simplify(eqn_1.subs({alpha: solved_alpha, beta: solved_beta}))"
   ]
  },
  {
   "cell_type": "markdown",
   "metadata": {},
   "source": [
    "Formula for $\\chi$:"
   ]
  },
  {
   "cell_type": "code",
   "execution_count": 8,
   "metadata": {},
   "outputs": [
    {
     "data": {
      "text/plain": [
       "(P*tilde_p2 - P*tilde_p3 + S*tilde_p3 - T*tilde_p2)/(P*tilde_p2 - P*tilde_p3 - S*tilde_p2 + T*tilde_p3)"
      ]
     },
     "execution_count": 8,
     "metadata": {},
     "output_type": "execute_result"
    }
   ],
   "source": [
    "sym.simplify(- solved_beta / solved_alpha)"
   ]
  },
  {
   "cell_type": "markdown",
   "metadata": {},
   "source": [
    "Formula for $\\text{SSError}$ in terms of a generic measured $p^*$:"
   ]
  },
  {
   "cell_type": "code",
   "execution_count": 9,
   "metadata": {},
   "outputs": [],
   "source": [
    "p_star = sym.symbols(\"p_star1:5\")"
   ]
  },
  {
   "cell_type": "code",
   "execution_count": 10,
   "metadata": {},
   "outputs": [],
   "source": [
    "SSError = ((alpha * R + beta * R - P * (alpha + beta) - p_star[0]) ** 2 + \n",
    "           (alpha * S + beta * T - P * (alpha + beta) - p_star[1]) ** 2 + \n",
    "           (alpha * T + beta * S - P * (alpha + beta) - p_star[2]) ** 2)"
   ]
  },
  {
   "cell_type": "code",
   "execution_count": 11,
   "metadata": {},
   "outputs": [
    {
     "data": {
      "text/plain": [
       "(-P*(alpha + beta) + R*alpha + R*beta - p_star1)**2 + (-P*(alpha + beta) + S*alpha + T*beta - p_star2)**2 + (-P*(alpha + beta) + S*beta + T*alpha - p_star3)**2"
      ]
     },
     "execution_count": 11,
     "metadata": {},
     "output_type": "execute_result"
    }
   ],
   "source": [
    "SSError"
   ]
  },
  {
   "cell_type": "markdown",
   "metadata": {},
   "source": [
    "Finding optimal value of $\\alpha, \\beta$:\n",
    "\n",
    "By differentiating and equating to $0$ we can compute the optimal value of $\\alpha$ in terms of $\\beta$:"
   ]
  },
  {
   "cell_type": "code",
   "execution_count": 12,
   "metadata": {},
   "outputs": [
    {
     "data": {
      "text/plain": [
       "(-3*P**2*beta + 2*P*R*beta + 2*P*S*beta + 2*P*T*beta - P*p_star1 - P*p_star2 - P*p_star3 - R**2*beta + R*p_star1 - 2*S*T*beta + S*p_star2 + T*p_star3)/(3*P**2 - 2*P*R - 2*P*S - 2*P*T + R**2 + S**2 + T**2)"
      ]
     },
     "execution_count": 12,
     "metadata": {},
     "output_type": "execute_result"
    }
   ],
   "source": [
    "eqn_alpha = sym.solveset(sym.diff(SSError, alpha), alpha).args[0]\n",
    "eqn_alpha.simplify()"
   ]
  },
  {
   "cell_type": "markdown",
   "metadata": {},
   "source": [
    "With RPST values:"
   ]
  },
  {
   "cell_type": "code",
   "execution_count": 13,
   "metadata": {},
   "outputs": [
    {
     "data": {
      "text/plain": [
       "4*beta/21 + 2*p_star1/21 - p_star2/21 + 4*p_star3/21"
      ]
     },
     "execution_count": 13,
     "metadata": {},
     "output_type": "execute_result"
    }
   ],
   "source": [
    "eqn_alpha.subs({R: 3, P: 1, S: 0, T: 5})"
   ]
  },
  {
   "cell_type": "markdown",
   "metadata": {},
   "source": [
    "Differentiating with respect to $\\beta$, equating to $0$ and substituting give $\\beta$:"
   ]
  },
  {
   "cell_type": "code",
   "execution_count": 14,
   "metadata": {},
   "outputs": [
    {
     "data": {
      "text/plain": [
       "(-3*P**2*p_star2 + 3*P**2*p_star3 + 2*P*R*p_star2 - 2*P*R*p_star3 - P*S*p_star1 + P*S*p_star2 - 3*P*S*p_star3 + P*T*p_star1 + 3*P*T*p_star2 - P*T*p_star3 - R**2*p_star2 + R**2*p_star3 + R*S*p_star1 - R*T*p_star1 + S**2*p_star3 - S*T*p_star2 + S*T*p_star3 - T**2*p_star2)/((S - T)*(6*P**2 - 4*P*R - 4*P*S - 4*P*T + 2*R**2 + S**2 + 2*S*T + T**2))"
      ]
     },
     "execution_count": 14,
     "metadata": {},
     "output_type": "execute_result"
    }
   ],
   "source": [
    "eqn_beta = sym.solveset(sym.diff(SSError, beta).subs({alpha: eqn_alpha}), beta)\n",
    "opt_beta = eqn_beta.args[0]\n",
    "opt_beta.simplify()"
   ]
  },
  {
   "cell_type": "code",
   "execution_count": 15,
   "metadata": {},
   "outputs": [
    {
     "data": {
      "text/plain": [
       "2*p_star1/17 + 16*p_star2/85 - p_star3/85"
      ]
     },
     "execution_count": 15,
     "metadata": {},
     "output_type": "execute_result"
    }
   ],
   "source": [
    "opt_beta.subs({R: 3, P: 1, S: 0, T: 5})"
   ]
  },
  {
   "cell_type": "markdown",
   "metadata": {},
   "source": [
    "For the case of `extort-2`:"
   ]
  },
  {
   "cell_type": "code",
   "execution_count": 16,
   "metadata": {},
   "outputs": [
    {
     "data": {
      "text/plain": [
       "-1/9"
      ]
     },
     "execution_count": 16,
     "metadata": {},
     "output_type": "execute_result"
    }
   ],
   "source": [
    "opt_beta.subs({p_star[0]: -sym.S(1) / 9, p_star[1]: -sym.S(1) / 2, p_star[2]: sym.S(1) / 3,\n",
    "               R: 3, P: 1, S: 0, T: 5})"
   ]
  },
  {
   "cell_type": "markdown",
   "metadata": {},
   "source": [
    "We can substitute this back in to our previous expression for $\\beta$:"
   ]
  },
  {
   "cell_type": "code",
   "execution_count": 17,
   "metadata": {},
   "outputs": [],
   "source": [
    "opt_alpha = eqn_alpha.subs({beta: opt_beta})"
   ]
  },
  {
   "cell_type": "code",
   "execution_count": 18,
   "metadata": {},
   "outputs": [
    {
     "data": {
      "text/plain": [
       "(3*P**2*p_star2 - 3*P**2*p_star3 - 2*P*R*p_star2 + 2*P*R*p_star3 - P*S*p_star1 - 3*P*S*p_star2 + P*S*p_star3 + P*T*p_star1 - P*T*p_star2 + 3*P*T*p_star3 + R**2*p_star2 - R**2*p_star3 + R*S*p_star1 - R*T*p_star1 + S**2*p_star2 + S*T*p_star2 - S*T*p_star3 - T**2*p_star3)/(6*P**2*S - 6*P**2*T - 4*P*R*S + 4*P*R*T - 4*P*S**2 + 4*P*T**2 + 2*R**2*S - 2*R**2*T + S**3 + S**2*T - S*T**2 - T**3)"
      ]
     },
     "execution_count": 18,
     "metadata": {},
     "output_type": "execute_result"
    }
   ],
   "source": [
    "opt_alpha.simplify()"
   ]
  },
  {
   "cell_type": "markdown",
   "metadata": {},
   "source": [
    "For the case of `extort-2`:"
   ]
  },
  {
   "cell_type": "code",
   "execution_count": 19,
   "metadata": {},
   "outputs": [
    {
     "data": {
      "text/plain": [
       "1/18"
      ]
     },
     "execution_count": 19,
     "metadata": {},
     "output_type": "execute_result"
    }
   ],
   "source": [
    "opt_alpha.subs({p_star[0]: -sym.S(1) / 9, p_star[1]: -sym.S(1) / 2, p_star[2]: sym.S(1) / 3,\n",
    "                R: 3, P: 1, S: 0, T: 5})"
   ]
  },
  {
   "cell_type": "markdown",
   "metadata": {},
   "source": [
    "The derivative is indeed 0 (in the general case):"
   ]
  },
  {
   "cell_type": "code",
   "execution_count": 20,
   "metadata": {},
   "outputs": [
    {
     "data": {
      "text/plain": [
       "0"
      ]
     },
     "execution_count": 20,
     "metadata": {},
     "output_type": "execute_result"
    }
   ],
   "source": [
    "sym.diff(SSError, alpha).subs({alpha: opt_alpha, beta:opt_beta}).simplify()"
   ]
  },
  {
   "cell_type": "code",
   "execution_count": 21,
   "metadata": {},
   "outputs": [
    {
     "data": {
      "text/plain": [
       "0"
      ]
     },
     "execution_count": 21,
     "metadata": {},
     "output_type": "execute_result"
    }
   ],
   "source": [
    "sym.diff(SSError, beta).subs({alpha: opt_alpha, beta:opt_beta}).simplify()"
   ]
  },
  {
   "cell_type": "markdown",
   "metadata": {},
   "source": [
    "The actual value of $\\chi$:"
   ]
  },
  {
   "cell_type": "code",
   "execution_count": 38,
   "metadata": {},
   "outputs": [
    {
     "data": {
      "text/plain": [
       "(3*P**2*p_star2 - 3*P**2*p_star3 - 2*P*R*p_star2 + 2*P*R*p_star3 + P*S*p_star1 - P*S*p_star2 + 3*P*S*p_star3 - P*T*p_star1 - 3*P*T*p_star2 + P*T*p_star3 + R**2*p_star2 - R**2*p_star3 - R*S*p_star1 + R*T*p_star1 - S**2*p_star3 + S*T*p_star2 - S*T*p_star3 + T**2*p_star2)/(3*P**2*p_star2 - 3*P**2*p_star3 - 2*P*R*p_star2 + 2*P*R*p_star3 - P*S*p_star1 - 3*P*S*p_star2 + P*S*p_star3 + P*T*p_star1 - P*T*p_star2 + 3*P*T*p_star3 + R**2*p_star2 - R**2*p_star3 + R*S*p_star1 - R*T*p_star1 + S**2*p_star2 + S*T*p_star2 - S*T*p_star3 - T**2*p_star3)"
      ]
     },
     "execution_count": 38,
     "metadata": {},
     "output_type": "execute_result"
    }
   ],
   "source": [
    "opt_chi = -opt_beta / opt_alpha\n",
    "opt_chi.simplify()"
   ]
  },
  {
   "cell_type": "code",
   "execution_count": 43,
   "metadata": {},
   "outputs": [
    {
     "data": {
      "text/plain": [
       "{-(p_star2 + p_star3)*(2*P - S - T)/(2*(P - R))}"
      ]
     },
     "execution_count": 43,
     "metadata": {},
     "output_type": "execute_result"
    }
   ],
   "source": [
    "sym.solveset(sym.fraction(opt_chi.simplify())[0] - sym.fraction(opt_chi.simplify())[1], p_star[0])"
   ]
  },
  {
   "cell_type": "code",
   "execution_count": 45,
   "metadata": {},
   "outputs": [
    {
     "data": {
      "text/plain": [
       "p_star1*(2*P*S - 2*P*T - 2*R*S + 2*R*T) + p_star2*(2*P*S - 2*P*T - S**2 + T**2) + p_star3*(2*P*S - 2*P*T - S**2 + T**2)"
      ]
     },
     "execution_count": 45,
     "metadata": {},
     "output_type": "execute_result"
    }
   ],
   "source": [
    "(sym.fraction(opt_chi.simplify())[0] - sym.fraction(opt_chi.simplify())[1]).collect(p_star[0]).collect(p_star[1]).collect(p_star[2])"
   ]
  },
  {
   "cell_type": "code",
   "execution_count": 50,
   "metadata": {},
   "outputs": [
    {
     "data": {
      "text/plain": [
       "(2*P*p_star2 + 2*P*p_star3 - S*p_star2 - S*p_star3 - T*p_star2 - T*p_star3)/(2*(P - R))"
      ]
     },
     "execution_count": 50,
     "metadata": {},
     "output_type": "execute_result"
    }
   ],
   "source": [
    "((p_star[1]*(2*P*S - 2*P*T - S**2 + T**2) + p_star[2]*(2*P*S - 2*P*T - S**2 + T**2)) / (2*P*S - 2*P*T - 2*R*S + 2*R*T)).simplify()"
   ]
  },
  {
   "cell_type": "code",
   "execution_count": 24,
   "metadata": {},
   "outputs": [
    {
     "data": {
      "text/plain": [
       "(-10*p_star1 - 16*p_star2 + p_star3)/(10*p_star1 - p_star2 + 16*p_star3)"
      ]
     },
     "execution_count": 24,
     "metadata": {},
     "output_type": "execute_result"
    }
   ],
   "source": [
    "opt_chi.subs({R: 3, P: 1, S: 0, T: 5}).simplify()"
   ]
  },
  {
   "cell_type": "code",
   "execution_count": 25,
   "metadata": {},
   "outputs": [
    {
     "data": {
      "text/plain": [
       "{-3*p_star2/4 - 3*p_star3/4}"
      ]
     },
     "execution_count": 25,
     "metadata": {},
     "output_type": "execute_result"
    }
   ],
   "source": [
    "sym.solveset(sym.fraction(opt_chi.simplify())[0] - sym.fraction(opt_chi.simplify())[1], p_star[0]).subs({R: 3, P: 1, S: 0, T: 5})"
   ]
  },
  {
   "cell_type": "markdown",
   "metadata": {},
   "source": [
    "The actual $\\text{SSError}$:"
   ]
  },
  {
   "cell_type": "code",
   "execution_count": 26,
   "metadata": {},
   "outputs": [
    {
     "data": {
      "text/plain": [
       "(2*P*p_star1 - P*p_star2 - P*p_star3 + R*p_star2 + R*p_star3 - S*p_star1 - T*p_star1)**2/(6*P**2 - 4*P*R - 4*P*S - 4*P*T + 2*R**2 + S**2 + 2*S*T + T**2)"
      ]
     },
     "execution_count": 26,
     "metadata": {},
     "output_type": "execute_result"
    }
   ],
   "source": [
    "SSError = SSError.subs({alpha:opt_alpha, beta:opt_beta}).factor()\n",
    "SSError"
   ]
  },
  {
   "cell_type": "code",
   "execution_count": 27,
   "metadata": {},
   "outputs": [
    {
     "data": {
      "text/plain": [
       "(-3*p_star1 + 2*p_star2 + 2*p_star3)**2/17"
      ]
     },
     "execution_count": 27,
     "metadata": {},
     "output_type": "execute_result"
    }
   ],
   "source": [
    "SSError.subs({R: 3, P: 1, S: 0, T: 5})"
   ]
  },
  {
   "cell_type": "code",
   "execution_count": 28,
   "metadata": {},
   "outputs": [
    {
     "data": {
      "text/plain": [
       "array([0.88888889, 0.5       , 0.33333333, 0.        ])"
      ]
     },
     "execution_count": 28,
     "metadata": {},
     "output_type": "execute_result"
    }
   ],
   "source": [
    "p = np.array([8 / 9, 1 / 2, 1 / 3, 0])\n",
    "p"
   ]
  },
  {
   "cell_type": "code",
   "execution_count": 29,
   "metadata": {},
   "outputs": [
    {
     "data": {
      "text/plain": [
       "(array([ 0.05555556, -0.11111111]), 6.256968643151002e-33)"
      ]
     },
     "execution_count": 29,
     "metadata": {},
     "output_type": "execute_result"
    }
   ],
   "source": [
    "zd.compute_least_squares(p)"
   ]
  },
  {
   "cell_type": "code",
   "execution_count": 30,
   "metadata": {},
   "outputs": [
    {
     "data": {
      "text/plain": [
       "0"
      ]
     },
     "execution_count": 30,
     "metadata": {},
     "output_type": "execute_result"
    }
   ],
   "source": [
    "measured_p_star = [p[0] - 1, p[1] - 1, p[2]]\n",
    "SSError.subs({p_star[i]: measured_p_star[i] for i in range(3)}).subs({R: 3, P: 1, S: 0, T: 5})"
   ]
  },
  {
   "cell_type": "code",
   "execution_count": 31,
   "metadata": {},
   "outputs": [
    {
     "data": {
      "text/plain": [
       "array([1.        , 0.5       , 0.33333333, 0.        ])"
      ]
     },
     "execution_count": 31,
     "metadata": {},
     "output_type": "execute_result"
    }
   ],
   "source": [
    "p = np.array([1, 1 / 2, 1 / 3, 0])\n",
    "p"
   ]
  },
  {
   "cell_type": "code",
   "execution_count": 32,
   "metadata": {},
   "outputs": [
    {
     "data": {
      "text/plain": [
       "(array([ 0.06862745, -0.09803922]), 0.006535947712418295)"
      ]
     },
     "execution_count": 32,
     "metadata": {},
     "output_type": "execute_result"
    }
   ],
   "source": [
    "zd.compute_least_squares(p)"
   ]
  },
  {
   "cell_type": "code",
   "execution_count": 33,
   "metadata": {},
   "outputs": [
    {
     "data": {
      "text/plain": [
       "0.00653594771241831"
      ]
     },
     "execution_count": 33,
     "metadata": {},
     "output_type": "execute_result"
    }
   ],
   "source": [
    "measured_p_star = [p[0] - 1, p[1] - 1, p[2]]\n",
    "SSError.subs({p_star[i]: measured_p_star[i] for i in range(3)}).subs({R: 3, P: 1, S: 0, T: 5})"
   ]
  },
  {
   "cell_type": "code",
   "execution_count": 34,
   "metadata": {},
   "outputs": [
    {
     "data": {
      "text/plain": [
       "array([0.        , 0.5       , 0.33333333, 0.        ])"
      ]
     },
     "execution_count": 34,
     "metadata": {},
     "output_type": "execute_result"
    }
   ],
   "source": [
    "p = np.array([0, 1 / 2, 1 / 3, 0])\n",
    "p"
   ]
  },
  {
   "cell_type": "code",
   "execution_count": 35,
   "metadata": {},
   "outputs": [
    {
     "data": {
      "text/plain": [
       "(array([-0.04901961, -0.21568627]), 0.41830065359477125)"
      ]
     },
     "execution_count": 35,
     "metadata": {},
     "output_type": "execute_result"
    }
   ],
   "source": [
    "zd.compute_least_squares(p)"
   ]
  },
  {
   "cell_type": "code",
   "execution_count": 36,
   "metadata": {},
   "outputs": [
    {
     "data": {
      "text/plain": [
       "0.418300653594771"
      ]
     },
     "execution_count": 36,
     "metadata": {},
     "output_type": "execute_result"
    }
   ],
   "source": [
    "measured_p_star = [p[0] - 1, p[1] - 1, p[2]]\n",
    "SSError.subs({p_star[i]: measured_p_star[i] for i in range(3)}).subs({R: 3, P: 1, S: 0, T: 5})"
   ]
  }
 ],
 "metadata": {
  "anaconda-cloud": {},
  "kernelspec": {
   "display_name": "Python [conda env:testing-zd]",
   "language": "python",
   "name": "conda-env-testing-zd-py"
  },
  "language_info": {
   "codemirror_mode": {
    "name": "ipython",
    "version": 3
   },
   "file_extension": ".py",
   "mimetype": "text/x-python",
   "name": "python",
   "nbconvert_exporter": "python",
   "pygments_lexer": "ipython3",
   "version": "3.6.5"
  }
 },
 "nbformat": 4,
 "nbformat_minor": 2
}
