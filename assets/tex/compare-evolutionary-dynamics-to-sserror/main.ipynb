{
 "cells": [
  {
   "cell_type": "code",
   "execution_count": 36,
   "metadata": {},
   "outputs": [],
   "source": [
    "import pandas as pd\n",
    "import imp\n",
    "\n",
    "import sklearn\n",
    "from sklearn.feature_selection import RFE, f_regression\n",
    "from sklearn.linear_model import LinearRegression\n",
    "from sklearn.metrics import r2_score, mean_squared_error, mean_absolute_error\n",
    "import statsmodels.api as sm\n",
    "import numpy as np\n",
    "from scipy.integrate import odeint\n",
    "\n",
    "import matplotlib.pyplot as plt\n",
    "\n",
    "from main import find_index, carry_out_recursive_feature_elimination"
   ]
  },
  {
   "cell_type": "code",
   "execution_count": 37,
   "metadata": {},
   "outputs": [],
   "source": [
    "parameters = imp.load_source(\"parameters\", \"../../../data/raw/parameters.py\")"
   ]
  },
  {
   "cell_type": "code",
   "execution_count": 38,
   "metadata": {},
   "outputs": [],
   "source": [
    "def dx(x, t, S):\n",
    "    \"\"\"\n",
    "    Define the derivative of x.\n",
    "    \"\"\"\n",
    "    f = S @ x\n",
    "    phi = f @ x\n",
    "    return x * (f - phi)\n",
    "\n",
    "\n",
    "N = len(parameters.PLAYER_GROUPS[\"full\"])\n",
    "\n",
    "df = pd.read_csv(\n",
    "    \"../../../data/processed/full/std/per_opponent/main.csv\"\n",
    ")\n",
    "array = np.zeros((N, N))\n",
    "for pair, score in df.groupby([\"Player index\", \"Opponent index\"])[\n",
    "    \"Score\"\n",
    "]:\n",
    "    array[pair] = score / (parameters.TURNS * parameters.REPETITIONS)\n",
    "    if pair[0] == pair[1]:\n",
    "        array[pair] /= 2\n",
    "\n",
    "\n",
    "ts = np.linspace(0, 10, 2 * 10 ** 2)\n",
    "x0 = np.array([1 / N for _ in range(N)])\n",
    "xs = odeint(func=dx, y0=x0, t=ts, args=(array,))\n",
    "\n",
    "aggregate_df = df.groupby(\"Player index\").agg([\"mean\", \"median\", \"std\", \"max\", \"min\", \"var\"])\n",
    "aggregate_df[\"s_i\"] = xs[-1]"
   ]
  },
  {
   "cell_type": "code",
   "execution_count": 39,
   "metadata": {},
   "outputs": [],
   "source": [
    "Y = aggregate_df[\"s_i\"]\n",
    "X = aggregate_df[[\"residual\", \"chi\"]]"
   ]
  },
  {
   "cell_type": "code",
   "execution_count": 40,
   "metadata": {},
   "outputs": [
    {
     "data": {
      "text/plain": [
       "Player index\n",
       "0    5.024829e-07\n",
       "1    9.031990e-03\n",
       "2    4.916657e-08\n",
       "3    9.100225e-03\n",
       "4    2.808890e-05\n",
       "Name: s_i, dtype: float64"
      ]
     },
     "execution_count": 40,
     "metadata": {},
     "output_type": "execute_result"
    }
   ],
   "source": [
    "Y.head()"
   ]
  },
  {
   "cell_type": "code",
   "execution_count": 41,
   "metadata": {},
   "outputs": [
    {
     "data": {
      "text/html": [
       "<div>\n",
       "<style scoped>\n",
       "    .dataframe tbody tr th:only-of-type {\n",
       "        vertical-align: middle;\n",
       "    }\n",
       "\n",
       "    .dataframe tbody tr th {\n",
       "        vertical-align: top;\n",
       "    }\n",
       "\n",
       "    .dataframe thead tr th {\n",
       "        text-align: left;\n",
       "    }\n",
       "\n",
       "    .dataframe thead tr:last-of-type th {\n",
       "        text-align: right;\n",
       "    }\n",
       "</style>\n",
       "<table border=\"1\" class=\"dataframe\">\n",
       "  <thead>\n",
       "    <tr>\n",
       "      <th></th>\n",
       "      <th colspan=\"6\" halign=\"left\">residual</th>\n",
       "      <th colspan=\"6\" halign=\"left\">chi</th>\n",
       "    </tr>\n",
       "    <tr>\n",
       "      <th></th>\n",
       "      <th>mean</th>\n",
       "      <th>median</th>\n",
       "      <th>std</th>\n",
       "      <th>max</th>\n",
       "      <th>min</th>\n",
       "      <th>var</th>\n",
       "      <th>mean</th>\n",
       "      <th>median</th>\n",
       "      <th>std</th>\n",
       "      <th>max</th>\n",
       "      <th>min</th>\n",
       "      <th>var</th>\n",
       "    </tr>\n",
       "    <tr>\n",
       "      <th>Player index</th>\n",
       "      <th></th>\n",
       "      <th></th>\n",
       "      <th></th>\n",
       "      <th></th>\n",
       "      <th></th>\n",
       "      <th></th>\n",
       "      <th></th>\n",
       "      <th></th>\n",
       "      <th></th>\n",
       "      <th></th>\n",
       "      <th></th>\n",
       "      <th></th>\n",
       "    </tr>\n",
       "  </thead>\n",
       "  <tbody>\n",
       "    <tr>\n",
       "      <th>0</th>\n",
       "      <td>0.083834</td>\n",
       "      <td>0.062500</td>\n",
       "      <td>0.097969</td>\n",
       "      <td>0.529421</td>\n",
       "      <td>4.962440e-07</td>\n",
       "      <td>0.009598</td>\n",
       "      <td>-2.742235</td>\n",
       "      <td>-1.000000</td>\n",
       "      <td>11.674660</td>\n",
       "      <td>20.219352</td>\n",
       "      <td>-26.309607</td>\n",
       "      <td>136.297691</td>\n",
       "    </tr>\n",
       "    <tr>\n",
       "      <th>1</th>\n",
       "      <td>0.776823</td>\n",
       "      <td>1.235294</td>\n",
       "      <td>0.551097</td>\n",
       "      <td>1.235294</td>\n",
       "      <td>0.000000e+00</td>\n",
       "      <td>0.303708</td>\n",
       "      <td>0.711349</td>\n",
       "      <td>0.062500</td>\n",
       "      <td>1.715759</td>\n",
       "      <td>15.749016</td>\n",
       "      <td>-2.892567</td>\n",
       "      <td>2.943830</td>\n",
       "    </tr>\n",
       "    <tr>\n",
       "      <th>2</th>\n",
       "      <td>0.162841</td>\n",
       "      <td>0.058824</td>\n",
       "      <td>0.255963</td>\n",
       "      <td>1.100579</td>\n",
       "      <td>2.765522e-04</td>\n",
       "      <td>0.065517</td>\n",
       "      <td>0.549887</td>\n",
       "      <td>-2.888889</td>\n",
       "      <td>6.623267</td>\n",
       "      <td>15.982968</td>\n",
       "      <td>-7.190259</td>\n",
       "      <td>43.867664</td>\n",
       "    </tr>\n",
       "    <tr>\n",
       "      <th>3</th>\n",
       "      <td>0.772692</td>\n",
       "      <td>1.234177</td>\n",
       "      <td>0.548465</td>\n",
       "      <td>1.234177</td>\n",
       "      <td>0.000000e+00</td>\n",
       "      <td>0.300813</td>\n",
       "      <td>0.729207</td>\n",
       "      <td>0.063331</td>\n",
       "      <td>1.714565</td>\n",
       "      <td>15.749016</td>\n",
       "      <td>-2.892567</td>\n",
       "      <td>2.939735</td>\n",
       "    </tr>\n",
       "    <tr>\n",
       "      <th>4</th>\n",
       "      <td>0.050754</td>\n",
       "      <td>0.031634</td>\n",
       "      <td>0.094281</td>\n",
       "      <td>0.490000</td>\n",
       "      <td>0.000000e+00</td>\n",
       "      <td>0.008889</td>\n",
       "      <td>13.583206</td>\n",
       "      <td>16.000000</td>\n",
       "      <td>5.790799</td>\n",
       "      <td>16.000000</td>\n",
       "      <td>-1.000000</td>\n",
       "      <td>33.533355</td>\n",
       "    </tr>\n",
       "  </tbody>\n",
       "</table>\n",
       "</div>"
      ],
      "text/plain": [
       "              residual                                                        \\\n",
       "                  mean    median       std       max           min       var   \n",
       "Player index                                                                   \n",
       "0             0.083834  0.062500  0.097969  0.529421  4.962440e-07  0.009598   \n",
       "1             0.776823  1.235294  0.551097  1.235294  0.000000e+00  0.303708   \n",
       "2             0.162841  0.058824  0.255963  1.100579  2.765522e-04  0.065517   \n",
       "3             0.772692  1.234177  0.548465  1.234177  0.000000e+00  0.300813   \n",
       "4             0.050754  0.031634  0.094281  0.490000  0.000000e+00  0.008889   \n",
       "\n",
       "                    chi                                              \\\n",
       "                   mean     median        std        max        min   \n",
       "Player index                                                          \n",
       "0             -2.742235  -1.000000  11.674660  20.219352 -26.309607   \n",
       "1              0.711349   0.062500   1.715759  15.749016  -2.892567   \n",
       "2              0.549887  -2.888889   6.623267  15.982968  -7.190259   \n",
       "3              0.729207   0.063331   1.714565  15.749016  -2.892567   \n",
       "4             13.583206  16.000000   5.790799  16.000000  -1.000000   \n",
       "\n",
       "                          \n",
       "                     var  \n",
       "Player index              \n",
       "0             136.297691  \n",
       "1               2.943830  \n",
       "2              43.867664  \n",
       "3               2.939735  \n",
       "4              33.533355  "
      ]
     },
     "execution_count": 41,
     "metadata": {},
     "output_type": "execute_result"
    }
   ],
   "source": [
    "X.head()"
   ]
  },
  {
   "cell_type": "markdown",
   "metadata": {},
   "source": [
    "Confirm the model currently in the manuscript:"
   ]
  },
  {
   "cell_type": "code",
   "execution_count": 44,
   "metadata": {},
   "outputs": [
    {
     "data": {
      "text/html": [
       "<table class=\"simpletable\">\n",
       "<caption>OLS Regression Results</caption>\n",
       "<tr>\n",
       "  <th>Dep. Variable:</th>           <td>s_i</td>       <th>  R-squared:         </th> <td>   0.440</td>\n",
       "</tr>\n",
       "<tr>\n",
       "  <th>Model:</th>                   <td>OLS</td>       <th>  Adj. R-squared:    </th> <td>   0.437</td>\n",
       "</tr>\n",
       "<tr>\n",
       "  <th>Method:</th>             <td>Least Squares</td>  <th>  F-statistic:       </th> <td>   158.8</td>\n",
       "</tr>\n",
       "<tr>\n",
       "  <th>Date:</th>             <td>Mon, 19 Nov 2018</td> <th>  Prob (F-statistic):</th> <td>3.00e-27</td>\n",
       "</tr>\n",
       "<tr>\n",
       "  <th>Time:</th>                 <td>16:03:35</td>     <th>  Log-Likelihood:    </th> <td>  863.55</td>\n",
       "</tr>\n",
       "<tr>\n",
       "  <th>No. Observations:</th>      <td>   204</td>      <th>  AIC:               </th> <td>  -1723.</td>\n",
       "</tr>\n",
       "<tr>\n",
       "  <th>Df Residuals:</th>          <td>   202</td>      <th>  BIC:               </th> <td>  -1716.</td>\n",
       "</tr>\n",
       "<tr>\n",
       "  <th>Df Model:</th>              <td>     1</td>      <th>                     </th>     <td> </td>   \n",
       "</tr>\n",
       "<tr>\n",
       "  <th>Covariance Type:</th>      <td>nonrobust</td>    <th>                     </th>     <td> </td>   \n",
       "</tr>\n",
       "</table>\n",
       "<table class=\"simpletable\">\n",
       "<tr>\n",
       "    <td></td>       <th>coef</th>     <th>std err</th>      <th>t</th>      <th>P>|t|</th>  <th>[0.025</th>    <th>0.975]</th>  \n",
       "</tr>\n",
       "<tr>\n",
       "  <th>const</th> <td>   -0.0005</td> <td>    0.000</td> <td>   -0.993</td> <td> 0.322</td> <td>   -0.001</td> <td>    0.000</td>\n",
       "</tr>\n",
       "<tr>\n",
       "  <th>var</th>   <td>    0.0281</td> <td>    0.002</td> <td>   12.603</td> <td> 0.000</td> <td>    0.024</td> <td>    0.032</td>\n",
       "</tr>\n",
       "</table>\n",
       "<table class=\"simpletable\">\n",
       "<tr>\n",
       "  <th>Omnibus:</th>       <td> 3.553</td> <th>  Durbin-Watson:     </th> <td>   1.413</td>\n",
       "</tr>\n",
       "<tr>\n",
       "  <th>Prob(Omnibus):</th> <td> 0.169</td> <th>  Jarque-Bera (JB):  </th> <td>   3.340</td>\n",
       "</tr>\n",
       "<tr>\n",
       "  <th>Skew:</th>          <td> 0.204</td> <th>  Prob(JB):          </th> <td>   0.188</td>\n",
       "</tr>\n",
       "<tr>\n",
       "  <th>Kurtosis:</th>      <td> 3.476</td> <th>  Cond. No.          </th> <td>    9.35</td>\n",
       "</tr>\n",
       "</table><br/><br/>Warnings:<br/>[1] Standard Errors assume that the covariance matrix of the errors is correctly specified."
      ],
      "text/plain": [
       "<class 'statsmodels.iolib.summary.Summary'>\n",
       "\"\"\"\n",
       "                            OLS Regression Results                            \n",
       "==============================================================================\n",
       "Dep. Variable:                    s_i   R-squared:                       0.440\n",
       "Model:                            OLS   Adj. R-squared:                  0.437\n",
       "Method:                 Least Squares   F-statistic:                     158.8\n",
       "Date:                Mon, 19 Nov 2018   Prob (F-statistic):           3.00e-27\n",
       "Time:                        16:03:35   Log-Likelihood:                 863.55\n",
       "No. Observations:                 204   AIC:                            -1723.\n",
       "Df Residuals:                     202   BIC:                            -1716.\n",
       "Df Model:                           1                                         \n",
       "Covariance Type:            nonrobust                                         \n",
       "==============================================================================\n",
       "                 coef    std err          t      P>|t|      [0.025      0.975]\n",
       "------------------------------------------------------------------------------\n",
       "const         -0.0005      0.000     -0.993      0.322      -0.001       0.000\n",
       "var            0.0281      0.002     12.603      0.000       0.024       0.032\n",
       "==============================================================================\n",
       "Omnibus:                        3.553   Durbin-Watson:                   1.413\n",
       "Prob(Omnibus):                  0.169   Jarque-Bera (JB):                3.340\n",
       "Skew:                           0.204   Prob(JB):                        0.188\n",
       "Kurtosis:                       3.476   Cond. No.                         9.35\n",
       "==============================================================================\n",
       "\n",
       "Warnings:\n",
       "[1] Standard Errors assume that the covariance matrix of the errors is correctly specified.\n",
       "\"\"\""
      ]
     },
     "execution_count": 44,
     "metadata": {},
     "output_type": "execute_result"
    }
   ],
   "source": [
    "model = sm.OLS(Y, sm.add_constant(X[\"residual\"][\"var\"])).fit()\n",
    "model.summary()"
   ]
  },
  {
   "cell_type": "markdown",
   "metadata": {},
   "source": [
    "Use sklearn's recursive feature elimination to find \"best\" linear model."
   ]
  },
  {
   "cell_type": "markdown",
   "metadata": {},
   "source": [
    "A plot of AIC and BIC:"
   ]
  },
  {
   "cell_type": "code",
   "execution_count": 26,
   "metadata": {},
   "outputs": [
    {
     "data": {
      "image/png": "[encoded data removed]",
      "text/plain": [
       "<Figure size 432x288 with 1 Axes>"
      ]
     },
     "metadata": {},
     "output_type": "display_data"
    }
   ],
   "source": [
    "number_of_features = range(1, len(X.columns) + 1)\n",
    "aics = [carry_out_recursive_feature_elimination(n_features_to_select=i, X=X, Y=Y).aic\n",
    "        for i in number_of_features]\n",
    "bics = [carry_out_recursive_feature_elimination(n_features_to_select=i, X=X, Y=Y).bic\n",
    "        for i in number_of_features]\n",
    "plt.figure()\n",
    "plt.plot(number_of_features, bics, label=\"BIC\")\n",
    "plt.plot(number_of_features, aics, label=\"AIC\")\n",
    "plt.legend()\n",
    "plt.xlabel(\"Number of features\");"
   ]
  },
  {
   "cell_type": "markdown",
   "metadata": {},
   "source": [
    "2 looks like the correct number of features."
   ]
  },
  {
   "cell_type": "code",
   "execution_count": 27,
   "metadata": {},
   "outputs": [
    {
     "data": {
      "text/html": [
       "<table class=\"simpletable\">\n",
       "<caption>OLS Regression Results</caption>\n",
       "<tr>\n",
       "  <th>Dep. Variable:</th>           <td>s_i</td>       <th>  R-squared:         </th> <td>   0.659</td>\n",
       "</tr>\n",
       "<tr>\n",
       "  <th>Model:</th>                   <td>OLS</td>       <th>  Adj. R-squared:    </th> <td>   0.655</td>\n",
       "</tr>\n",
       "<tr>\n",
       "  <th>Method:</th>             <td>Least Squares</td>  <th>  F-statistic:       </th> <td>   194.1</td>\n",
       "</tr>\n",
       "<tr>\n",
       "  <th>Date:</th>             <td>Mon, 19 Nov 2018</td> <th>  Prob (F-statistic):</th> <td>1.16e-47</td>\n",
       "</tr>\n",
       "<tr>\n",
       "  <th>Time:</th>                 <td>15:54:00</td>     <th>  Log-Likelihood:    </th> <td>  914.07</td>\n",
       "</tr>\n",
       "<tr>\n",
       "  <th>No. Observations:</th>      <td>   204</td>      <th>  AIC:               </th> <td>  -1822.</td>\n",
       "</tr>\n",
       "<tr>\n",
       "  <th>Df Residuals:</th>          <td>   201</td>      <th>  BIC:               </th> <td>  -1812.</td>\n",
       "</tr>\n",
       "<tr>\n",
       "  <th>Df Model:</th>              <td>     2</td>      <th>                     </th>     <td> </td>   \n",
       "</tr>\n",
       "<tr>\n",
       "  <th>Covariance Type:</th>      <td>nonrobust</td>    <th>                     </th>     <td> </td>   \n",
       "</tr>\n",
       "</table>\n",
       "<table class=\"simpletable\">\n",
       "<tr>\n",
       "             <td></td>               <th>coef</th>     <th>std err</th>      <th>t</th>      <th>P>|t|</th>  <th>[0.025</th>    <th>0.975]</th>  \n",
       "</tr>\n",
       "<tr>\n",
       "  <th>const</th>                  <td>    0.0013</td> <td>    0.000</td> <td>    3.104</td> <td> 0.002</td> <td>    0.000</td> <td>    0.002</td>\n",
       "</tr>\n",
       "<tr>\n",
       "  <th>('residual', 'mean')</th>   <td>   -0.0149</td> <td>    0.001</td> <td>  -12.346</td> <td> 0.000</td> <td>   -0.017</td> <td>   -0.012</td>\n",
       "</tr>\n",
       "<tr>\n",
       "  <th>('residual', 'median')</th> <td>    0.0155</td> <td>    0.001</td> <td>   17.818</td> <td> 0.000</td> <td>    0.014</td> <td>    0.017</td>\n",
       "</tr>\n",
       "</table>\n",
       "<table class=\"simpletable\">\n",
       "<tr>\n",
       "  <th>Omnibus:</th>       <td> 8.044</td> <th>  Durbin-Watson:     </th> <td>   1.692</td>\n",
       "</tr>\n",
       "<tr>\n",
       "  <th>Prob(Omnibus):</th> <td> 0.018</td> <th>  Jarque-Bera (JB):  </th> <td>  11.470</td>\n",
       "</tr>\n",
       "<tr>\n",
       "  <th>Skew:</th>          <td> 0.233</td> <th>  Prob(JB):          </th> <td> 0.00323</td>\n",
       "</tr>\n",
       "<tr>\n",
       "  <th>Kurtosis:</th>      <td> 4.064</td> <th>  Cond. No.          </th> <td>    12.1</td>\n",
       "</tr>\n",
       "</table><br/><br/>Warnings:<br/>[1] Standard Errors assume that the covariance matrix of the errors is correctly specified."
      ],
      "text/plain": [
       "<class 'statsmodels.iolib.summary.Summary'>\n",
       "\"\"\"\n",
       "                            OLS Regression Results                            \n",
       "==============================================================================\n",
       "Dep. Variable:                    s_i   R-squared:                       0.659\n",
       "Model:                            OLS   Adj. R-squared:                  0.655\n",
       "Method:                 Least Squares   F-statistic:                     194.1\n",
       "Date:                Mon, 19 Nov 2018   Prob (F-statistic):           1.16e-47\n",
       "Time:                        15:54:00   Log-Likelihood:                 914.07\n",
       "No. Observations:                 204   AIC:                            -1822.\n",
       "Df Residuals:                     201   BIC:                            -1812.\n",
       "Df Model:                           2                                         \n",
       "Covariance Type:            nonrobust                                         \n",
       "==========================================================================================\n",
       "                             coef    std err          t      P>|t|      [0.025      0.975]\n",
       "------------------------------------------------------------------------------------------\n",
       "const                      0.0013      0.000      3.104      0.002       0.000       0.002\n",
       "('residual', 'mean')      -0.0149      0.001    -12.346      0.000      -0.017      -0.012\n",
       "('residual', 'median')     0.0155      0.001     17.818      0.000       0.014       0.017\n",
       "==============================================================================\n",
       "Omnibus:                        8.044   Durbin-Watson:                   1.692\n",
       "Prob(Omnibus):                  0.018   Jarque-Bera (JB):               11.470\n",
       "Skew:                           0.233   Prob(JB):                      0.00323\n",
       "Kurtosis:                       4.064   Cond. No.                         12.1\n",
       "==============================================================================\n",
       "\n",
       "Warnings:\n",
       "[1] Standard Errors assume that the covariance matrix of the errors is correctly specified.\n",
       "\"\"\""
      ]
     },
     "execution_count": 27,
     "metadata": {},
     "output_type": "execute_result"
    }
   ],
   "source": [
    "model = carry_out_recursive_feature_elimination(n_features_to_select=2, X=X, Y=Y)\n",
    "model.summary()"
   ]
  },
  {
   "cell_type": "markdown",
   "metadata": {},
   "source": [
    "Mean SSerror reduces fixation, median increases it. This strategies with long tail (positive skew) distributions (giving a large mean and a low median) have a low fixation whereas strategies with a negative skew will be more likely to become fixed. This implies that strategies that usually don't act in a ZD way but can adapt to do so will behave well in an evolutionary setting."
   ]
  },
  {
   "cell_type": "markdown",
   "metadata": {},
   "source": [
    "Let us double check that RSE is working properly using brute force."
   ]
  },
  {
   "cell_type": "code",
   "execution_count": 28,
   "metadata": {},
   "outputs": [],
   "source": [
    "import itertools\n",
    "\n",
    "def iterate_over_all_variables(number_of_features=2):\n",
    "    for variables in itertools.product(X.columns, repeat=number_of_features):\n",
    "        x = sm.add_constant(X[list(variables)])\n",
    "        model = sm.OLS(Y, x).fit()\n",
    "        yield variables, model.rsquared"
   ]
  },
  {
   "cell_type": "code",
   "execution_count": 29,
   "metadata": {},
   "outputs": [
    {
     "data": {
      "text/plain": [
       "((('residual', 'mean'), ('residual', 'median')), 0.6588317301092173)"
      ]
     },
     "execution_count": 29,
     "metadata": {},
     "output_type": "execute_result"
    }
   ],
   "source": [
    "max(iterate_over_all_variables(number_of_features=2), key=lambda x: x[1])"
   ]
  },
  {
   "cell_type": "code",
   "execution_count": 31,
   "metadata": {},
   "outputs": [
    {
     "data": {
      "text/plain": [
       "((('residual', 'mean'), ('residual', 'median'), ('residual', 'min')),\n",
       " 0.672366803762088)"
      ]
     },
     "execution_count": 31,
     "metadata": {},
     "output_type": "execute_result"
    }
   ],
   "source": [
    "max(iterate_over_all_variables(number_of_features=3), key=lambda x: x[1])"
   ]
  },
  {
   "cell_type": "code",
   "execution_count": 35,
   "metadata": {},
   "outputs": [
    {
     "data": {
      "text/html": [
       "<table class=\"simpletable\">\n",
       "<caption>OLS Regression Results</caption>\n",
       "<tr>\n",
       "  <th>Dep. Variable:</th>           <td>s_i</td>       <th>  R-squared:         </th> <td>   0.667</td>\n",
       "</tr>\n",
       "<tr>\n",
       "  <th>Model:</th>                   <td>OLS</td>       <th>  Adj. R-squared:    </th> <td>   0.662</td>\n",
       "</tr>\n",
       "<tr>\n",
       "  <th>Method:</th>             <td>Least Squares</td>  <th>  F-statistic:       </th> <td>   133.3</td>\n",
       "</tr>\n",
       "<tr>\n",
       "  <th>Date:</th>             <td>Mon, 19 Nov 2018</td> <th>  Prob (F-statistic):</th> <td>1.82e-47</td>\n",
       "</tr>\n",
       "<tr>\n",
       "  <th>Time:</th>                 <td>15:57:29</td>     <th>  Log-Likelihood:    </th> <td>  916.43</td>\n",
       "</tr>\n",
       "<tr>\n",
       "  <th>No. Observations:</th>      <td>   204</td>      <th>  AIC:               </th> <td>  -1825.</td>\n",
       "</tr>\n",
       "<tr>\n",
       "  <th>Df Residuals:</th>          <td>   200</td>      <th>  BIC:               </th> <td>  -1812.</td>\n",
       "</tr>\n",
       "<tr>\n",
       "  <th>Df Model:</th>              <td>     3</td>      <th>                     </th>     <td> </td>   \n",
       "</tr>\n",
       "<tr>\n",
       "  <th>Covariance Type:</th>      <td>nonrobust</td>    <th>                     </th>     <td> </td>   \n",
       "</tr>\n",
       "</table>\n",
       "<table class=\"simpletable\">\n",
       "<tr>\n",
       "             <td></td>               <th>coef</th>     <th>std err</th>      <th>t</th>      <th>P>|t|</th>  <th>[0.025</th>    <th>0.975]</th>  \n",
       "</tr>\n",
       "<tr>\n",
       "  <th>const</th>                  <td>    0.0007</td> <td>    0.001</td> <td>    1.351</td> <td> 0.178</td> <td>   -0.000</td> <td>    0.002</td>\n",
       "</tr>\n",
       "<tr>\n",
       "  <th>('residual', 'mean')</th>   <td>   -0.0131</td> <td>    0.001</td> <td>   -9.054</td> <td> 0.000</td> <td>   -0.016</td> <td>   -0.010</td>\n",
       "</tr>\n",
       "<tr>\n",
       "  <th>('residual', 'median')</th> <td>    0.0136</td> <td>    0.001</td> <td>   11.172</td> <td> 0.000</td> <td>    0.011</td> <td>    0.016</td>\n",
       "</tr>\n",
       "<tr>\n",
       "  <th>('residual', 'var')</th>    <td>    0.0056</td> <td>    0.003</td> <td>    2.163</td> <td> 0.032</td> <td>    0.000</td> <td>    0.011</td>\n",
       "</tr>\n",
       "</table>\n",
       "<table class=\"simpletable\">\n",
       "<tr>\n",
       "  <th>Omnibus:</th>       <td>13.613</td> <th>  Durbin-Watson:     </th> <td>   1.697</td>\n",
       "</tr>\n",
       "<tr>\n",
       "  <th>Prob(Omnibus):</th> <td> 0.001</td> <th>  Jarque-Bera (JB):  </th> <td>  21.684</td>\n",
       "</tr>\n",
       "<tr>\n",
       "  <th>Skew:</th>          <td> 0.383</td> <th>  Prob(JB):          </th> <td>1.96e-05</td>\n",
       "</tr>\n",
       "<tr>\n",
       "  <th>Kurtosis:</th>      <td> 4.401</td> <th>  Cond. No.          </th> <td>    24.9</td>\n",
       "</tr>\n",
       "</table><br/><br/>Warnings:<br/>[1] Standard Errors assume that the covariance matrix of the errors is correctly specified."
      ],
      "text/plain": [
       "<class 'statsmodels.iolib.summary.Summary'>\n",
       "\"\"\"\n",
       "                            OLS Regression Results                            \n",
       "==============================================================================\n",
       "Dep. Variable:                    s_i   R-squared:                       0.667\n",
       "Model:                            OLS   Adj. R-squared:                  0.662\n",
       "Method:                 Least Squares   F-statistic:                     133.3\n",
       "Date:                Mon, 19 Nov 2018   Prob (F-statistic):           1.82e-47\n",
       "Time:                        15:57:29   Log-Likelihood:                 916.43\n",
       "No. Observations:                 204   AIC:                            -1825.\n",
       "Df Residuals:                     200   BIC:                            -1812.\n",
       "Df Model:                           3                                         \n",
       "Covariance Type:            nonrobust                                         \n",
       "==========================================================================================\n",
       "                             coef    std err          t      P>|t|      [0.025      0.975]\n",
       "------------------------------------------------------------------------------------------\n",
       "const                      0.0007      0.001      1.351      0.178      -0.000       0.002\n",
       "('residual', 'mean')      -0.0131      0.001     -9.054      0.000      -0.016      -0.010\n",
       "('residual', 'median')     0.0136      0.001     11.172      0.000       0.011       0.016\n",
       "('residual', 'var')        0.0056      0.003      2.163      0.032       0.000       0.011\n",
       "==============================================================================\n",
       "Omnibus:                       13.613   Durbin-Watson:                   1.697\n",
       "Prob(Omnibus):                  0.001   Jarque-Bera (JB):               21.684\n",
       "Skew:                           0.383   Prob(JB):                     1.96e-05\n",
       "Kurtosis:                       4.401   Cond. No.                         24.9\n",
       "==============================================================================\n",
       "\n",
       "Warnings:\n",
       "[1] Standard Errors assume that the covariance matrix of the errors is correctly specified.\n",
       "\"\"\""
      ]
     },
     "execution_count": 35,
     "metadata": {},
     "output_type": "execute_result"
    }
   ],
   "source": [
    "model = carry_out_recursive_feature_elimination(n_features_to_select=3, X=X, Y=Y)\n",
    "model.summary()"
   ]
  }
 ],
 "metadata": {
  "kernelspec": {
   "display_name": "Python [conda env:testing-zd]",
   "language": "python",
   "name": "conda-env-testing-zd-py"
  },
  "language_info": {
   "codemirror_mode": {
    "name": "ipython",
    "version": 3
   },
   "file_extension": ".py",
   "mimetype": "text/x-python",
   "name": "python",
   "nbconvert_exporter": "python",
   "pygments_lexer": "ipython3",
   "version": "3.6.5"
  }
 },
 "nbformat": 4,
 "nbformat_minor": 2
}
