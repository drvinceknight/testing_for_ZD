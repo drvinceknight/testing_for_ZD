{
 "cells": [
  {
   "cell_type": "code",
   "execution_count": 9,
   "metadata": {},
   "outputs": [],
   "source": [
    "import pandas as pd\n",
    "\n",
    "import sklearn\n",
    "from sklearn.feature_selection import RFE, f_regression\n",
    "from sklearn.linear_model import LinearRegression\n",
    "from sklearn.metrics import r2_score, mean_squared_error, mean_absolute_error\n",
    "import statsmodels.api as sm\n",
    "\n",
    "import matplotlib.pyplot as plt\n",
    "\n",
    "from main import find_index, carry_out_recursive_feature_elimination"
   ]
  },
  {
   "cell_type": "code",
   "execution_count": 10,
   "metadata": {},
   "outputs": [],
   "source": [
    "df = pd.read_csv(                                                                                                                       \n",
    "    \"../../../data/processed/full/std/per_opponent/main.csv\"                                                                            \n",
    ")                                                                                                                                       \n",
    "                                                                                                                                        \n",
    "moran_df = pd.read_csv(\"../../img/compare-fixation-to-sserror/data/main.csv\")                                                                                                 \n",
    "moran_df[\"Player index\"] = moran_df[\"player\"].map(find_index)                                                                           \n",
    "moran_df[\"Opponent index\"] = moran_df[\"opponent\"].map(find_index)                                                                       \n",
    "moran_df[\"Normalised fixation\"] = moran_df[\"$p_1$\"] * moran_df[\"N\"]                                                                     \n",
    "df = moran_df.merge(                                                                                                                    \n",
    "    df, on=(\"Player index\", \"Opponent index\"), how=\"right\"                                                                              \n",
    ")                                                                                                      "
   ]
  },
  {
   "cell_type": "code",
   "execution_count": 11,
   "metadata": {},
   "outputs": [],
   "source": [
    "aggregate_df = df.groupby(\"Player index\").agg([\"mean\", \"median\", \"std\", \"max\", \"min\", \"var\"]).dropna()\n",
    "Y = aggregate_df[\"Normalised fixation\"][\"mean\"]\n",
    "X = aggregate_df[[\"residual\", \"chi\"]]"
   ]
  },
  {
   "cell_type": "code",
   "execution_count": 12,
   "metadata": {},
   "outputs": [
    {
     "data": {
      "text/plain": [
       "Player index\n",
       "0    1.806446\n",
       "1    1.420587\n",
       "2    1.274116\n",
       "4    1.045840\n",
       "5    1.105582\n",
       "Name: mean, dtype: float64"
      ]
     },
     "execution_count": 12,
     "metadata": {},
     "output_type": "execute_result"
    }
   ],
   "source": [
    "Y.head()"
   ]
  },
  {
   "cell_type": "code",
   "execution_count": 13,
   "metadata": {},
   "outputs": [
    {
     "data": {
      "text/html": [
       "<div>\n",
       "<style scoped>\n",
       "    .dataframe tbody tr th:only-of-type {\n",
       "        vertical-align: middle;\n",
       "    }\n",
       "\n",
       "    .dataframe tbody tr th {\n",
       "        vertical-align: top;\n",
       "    }\n",
       "\n",
       "    .dataframe thead tr th {\n",
       "        text-align: left;\n",
       "    }\n",
       "\n",
       "    .dataframe thead tr:last-of-type th {\n",
       "        text-align: right;\n",
       "    }\n",
       "</style>\n",
       "<table border=\"1\" class=\"dataframe\">\n",
       "  <thead>\n",
       "    <tr>\n",
       "      <th></th>\n",
       "      <th colspan=\"6\" halign=\"left\">residual</th>\n",
       "      <th colspan=\"6\" halign=\"left\">chi</th>\n",
       "    </tr>\n",
       "    <tr>\n",
       "      <th></th>\n",
       "      <th>mean</th>\n",
       "      <th>median</th>\n",
       "      <th>std</th>\n",
       "      <th>max</th>\n",
       "      <th>min</th>\n",
       "      <th>var</th>\n",
       "      <th>mean</th>\n",
       "      <th>median</th>\n",
       "      <th>std</th>\n",
       "      <th>max</th>\n",
       "      <th>min</th>\n",
       "      <th>var</th>\n",
       "    </tr>\n",
       "    <tr>\n",
       "      <th>Player index</th>\n",
       "      <th></th>\n",
       "      <th></th>\n",
       "      <th></th>\n",
       "      <th></th>\n",
       "      <th></th>\n",
       "      <th></th>\n",
       "      <th></th>\n",
       "      <th></th>\n",
       "      <th></th>\n",
       "      <th></th>\n",
       "      <th></th>\n",
       "      <th></th>\n",
       "    </tr>\n",
       "  </thead>\n",
       "  <tbody>\n",
       "    <tr>\n",
       "      <th>0</th>\n",
       "      <td>0.085234</td>\n",
       "      <td>0.062500</td>\n",
       "      <td>0.098870</td>\n",
       "      <td>0.529421</td>\n",
       "      <td>4.962440e-07</td>\n",
       "      <td>0.009775</td>\n",
       "      <td>-2.589143</td>\n",
       "      <td>-1.000000</td>\n",
       "      <td>11.774558</td>\n",
       "      <td>20.219352</td>\n",
       "      <td>-26.309607</td>\n",
       "      <td>138.640215</td>\n",
       "    </tr>\n",
       "    <tr>\n",
       "      <th>1</th>\n",
       "      <td>0.735523</td>\n",
       "      <td>1.235294</td>\n",
       "      <td>0.557780</td>\n",
       "      <td>1.235294</td>\n",
       "      <td>0.000000e+00</td>\n",
       "      <td>0.311119</td>\n",
       "      <td>0.794683</td>\n",
       "      <td>0.062500</td>\n",
       "      <td>1.891261</td>\n",
       "      <td>15.749016</td>\n",
       "      <td>-2.892567</td>\n",
       "      <td>3.576868</td>\n",
       "    </tr>\n",
       "    <tr>\n",
       "      <th>2</th>\n",
       "      <td>0.146359</td>\n",
       "      <td>0.058824</td>\n",
       "      <td>0.227649</td>\n",
       "      <td>1.100579</td>\n",
       "      <td>2.765522e-04</td>\n",
       "      <td>0.051824</td>\n",
       "      <td>0.534406</td>\n",
       "      <td>-2.888889</td>\n",
       "      <td>6.730720</td>\n",
       "      <td>15.982968</td>\n",
       "      <td>-7.190259</td>\n",
       "      <td>45.302588</td>\n",
       "    </tr>\n",
       "    <tr>\n",
       "      <th>4</th>\n",
       "      <td>0.058353</td>\n",
       "      <td>0.034575</td>\n",
       "      <td>0.103270</td>\n",
       "      <td>0.490000</td>\n",
       "      <td>0.000000e+00</td>\n",
       "      <td>0.010665</td>\n",
       "      <td>13.046538</td>\n",
       "      <td>16.000000</td>\n",
       "      <td>6.253074</td>\n",
       "      <td>16.000000</td>\n",
       "      <td>-1.000000</td>\n",
       "      <td>39.100936</td>\n",
       "    </tr>\n",
       "    <tr>\n",
       "      <th>5</th>\n",
       "      <td>1.318780</td>\n",
       "      <td>1.529412</td>\n",
       "      <td>0.357273</td>\n",
       "      <td>1.941176</td>\n",
       "      <td>3.823529e-01</td>\n",
       "      <td>0.127644</td>\n",
       "      <td>2.616834</td>\n",
       "      <td>3.857143</td>\n",
       "      <td>5.372014</td>\n",
       "      <td>5.375000</td>\n",
       "      <td>-26.500000</td>\n",
       "      <td>28.858535</td>\n",
       "    </tr>\n",
       "  </tbody>\n",
       "</table>\n",
       "</div>"
      ],
      "text/plain": [
       "              residual                                                        \\\n",
       "                  mean    median       std       max           min       var   \n",
       "Player index                                                                   \n",
       "0             0.085234  0.062500  0.098870  0.529421  4.962440e-07  0.009775   \n",
       "1             0.735523  1.235294  0.557780  1.235294  0.000000e+00  0.311119   \n",
       "2             0.146359  0.058824  0.227649  1.100579  2.765522e-04  0.051824   \n",
       "4             0.058353  0.034575  0.103270  0.490000  0.000000e+00  0.010665   \n",
       "5             1.318780  1.529412  0.357273  1.941176  3.823529e-01  0.127644   \n",
       "\n",
       "                    chi                                              \\\n",
       "                   mean     median        std        max        min   \n",
       "Player index                                                          \n",
       "0             -2.589143  -1.000000  11.774558  20.219352 -26.309607   \n",
       "1              0.794683   0.062500   1.891261  15.749016  -2.892567   \n",
       "2              0.534406  -2.888889   6.730720  15.982968  -7.190259   \n",
       "4             13.046538  16.000000   6.253074  16.000000  -1.000000   \n",
       "5              2.616834   3.857143   5.372014   5.375000 -26.500000   \n",
       "\n",
       "                          \n",
       "                     var  \n",
       "Player index              \n",
       "0             138.640215  \n",
       "1               3.576868  \n",
       "2              45.302588  \n",
       "4              39.100936  \n",
       "5              28.858535  "
      ]
     },
     "execution_count": 13,
     "metadata": {},
     "output_type": "execute_result"
    }
   ],
   "source": [
    "X.head()"
   ]
  },
  {
   "cell_type": "markdown",
   "metadata": {},
   "source": [
    "Confirm the model currently in the manuscript:"
   ]
  },
  {
   "cell_type": "code",
   "execution_count": 14,
   "metadata": {},
   "outputs": [
    {
     "data": {
      "text/html": [
       "<table class=\"simpletable\">\n",
       "<caption>OLS Regression Results</caption>\n",
       "<tr>\n",
       "  <th>Dep. Variable:</th>          <td>mean</td>       <th>  R-squared:         </th> <td>   0.137</td>\n",
       "</tr>\n",
       "<tr>\n",
       "  <th>Model:</th>                   <td>OLS</td>       <th>  Adj. R-squared:    </th> <td>   0.132</td>\n",
       "</tr>\n",
       "<tr>\n",
       "  <th>Method:</th>             <td>Least Squares</td>  <th>  F-statistic:       </th> <td>   24.94</td>\n",
       "</tr>\n",
       "<tr>\n",
       "  <th>Date:</th>             <td>Mon, 19 Nov 2018</td> <th>  Prob (F-statistic):</th> <td>1.56e-06</td>\n",
       "</tr>\n",
       "<tr>\n",
       "  <th>Time:</th>                 <td>16:31:31</td>     <th>  Log-Likelihood:    </th> <td> -61.088</td>\n",
       "</tr>\n",
       "<tr>\n",
       "  <th>No. Observations:</th>      <td>   159</td>      <th>  AIC:               </th> <td>   126.2</td>\n",
       "</tr>\n",
       "<tr>\n",
       "  <th>Df Residuals:</th>          <td>   157</td>      <th>  BIC:               </th> <td>   132.3</td>\n",
       "</tr>\n",
       "<tr>\n",
       "  <th>Df Model:</th>              <td>     1</td>      <th>                     </th>     <td> </td>   \n",
       "</tr>\n",
       "<tr>\n",
       "  <th>Covariance Type:</th>      <td>nonrobust</td>    <th>                     </th>     <td> </td>   \n",
       "</tr>\n",
       "</table>\n",
       "<table class=\"simpletable\">\n",
       "<tr>\n",
       "    <td></td>       <th>coef</th>     <th>std err</th>      <th>t</th>      <th>P>|t|</th>  <th>[0.025</th>    <th>0.975]</th>  \n",
       "</tr>\n",
       "<tr>\n",
       "  <th>const</th> <td>    1.1102</td> <td>    0.057</td> <td>   19.463</td> <td> 0.000</td> <td>    0.998</td> <td>    1.223</td>\n",
       "</tr>\n",
       "<tr>\n",
       "  <th>var</th>   <td>    1.2728</td> <td>    0.255</td> <td>    4.994</td> <td> 0.000</td> <td>    0.769</td> <td>    1.776</td>\n",
       "</tr>\n",
       "</table>\n",
       "<table class=\"simpletable\">\n",
       "<tr>\n",
       "  <th>Omnibus:</th>       <td> 4.032</td> <th>  Durbin-Watson:     </th> <td>   1.547</td>\n",
       "</tr>\n",
       "<tr>\n",
       "  <th>Prob(Omnibus):</th> <td> 0.133</td> <th>  Jarque-Bera (JB):  </th> <td>   3.575</td>\n",
       "</tr>\n",
       "<tr>\n",
       "  <th>Skew:</th>          <td>-0.348</td> <th>  Prob(JB):          </th> <td>   0.167</td>\n",
       "</tr>\n",
       "<tr>\n",
       "  <th>Kurtosis:</th>      <td> 3.237</td> <th>  Cond. No.          </th> <td>    9.33</td>\n",
       "</tr>\n",
       "</table><br/><br/>Warnings:<br/>[1] Standard Errors assume that the covariance matrix of the errors is correctly specified."
      ],
      "text/plain": [
       "<class 'statsmodels.iolib.summary.Summary'>\n",
       "\"\"\"\n",
       "                            OLS Regression Results                            \n",
       "==============================================================================\n",
       "Dep. Variable:                   mean   R-squared:                       0.137\n",
       "Model:                            OLS   Adj. R-squared:                  0.132\n",
       "Method:                 Least Squares   F-statistic:                     24.94\n",
       "Date:                Mon, 19 Nov 2018   Prob (F-statistic):           1.56e-06\n",
       "Time:                        16:31:31   Log-Likelihood:                -61.088\n",
       "No. Observations:                 159   AIC:                             126.2\n",
       "Df Residuals:                     157   BIC:                             132.3\n",
       "Df Model:                           1                                         \n",
       "Covariance Type:            nonrobust                                         \n",
       "==============================================================================\n",
       "                 coef    std err          t      P>|t|      [0.025      0.975]\n",
       "------------------------------------------------------------------------------\n",
       "const          1.1102      0.057     19.463      0.000       0.998       1.223\n",
       "var            1.2728      0.255      4.994      0.000       0.769       1.776\n",
       "==============================================================================\n",
       "Omnibus:                        4.032   Durbin-Watson:                   1.547\n",
       "Prob(Omnibus):                  0.133   Jarque-Bera (JB):                3.575\n",
       "Skew:                          -0.348   Prob(JB):                        0.167\n",
       "Kurtosis:                       3.237   Cond. No.                         9.33\n",
       "==============================================================================\n",
       "\n",
       "Warnings:\n",
       "[1] Standard Errors assume that the covariance matrix of the errors is correctly specified.\n",
       "\"\"\""
      ]
     },
     "execution_count": 14,
     "metadata": {},
     "output_type": "execute_result"
    }
   ],
   "source": [
    "model = sm.OLS(Y, sm.add_constant(X[\"residual\"][\"var\"])).fit()\n",
    "model.summary()"
   ]
  },
  {
   "cell_type": "markdown",
   "metadata": {},
   "source": [
    "We get the same model."
   ]
  },
  {
   "cell_type": "markdown",
   "metadata": {},
   "source": [
    "Use sklearn's recursive feature elimination to find \"best\" linear model."
   ]
  },
  {
   "cell_type": "markdown",
   "metadata": {},
   "source": [
    "A plot of AIC and BIC:"
   ]
  },
  {
   "cell_type": "code",
   "execution_count": 15,
   "metadata": {},
   "outputs": [
    {
     "data": {
      "image/png": "[encoded data removed]",
      "text/plain": [
       "<Figure size 432x288 with 1 Axes>"
      ]
     },
     "metadata": {},
     "output_type": "display_data"
    }
   ],
   "source": [
    "number_of_features = range(1, len(X.columns) + 1)\n",
    "aics = [carry_out_recursive_feature_elimination(n_features_to_select=i, X=X, Y=Y).aic\n",
    "        for i in number_of_features]\n",
    "bics = [carry_out_recursive_feature_elimination(n_features_to_select=i, X=X, Y=Y).bic\n",
    "        for i in number_of_features]\n",
    "plt.figure()\n",
    "plt.plot(number_of_features, bics, label=\"BIC\")\n",
    "plt.plot(number_of_features, aics, label=\"AIC\")\n",
    "plt.legend()\n",
    "plt.xlabel(\"Number of features\");"
   ]
  },
  {
   "cell_type": "markdown",
   "metadata": {},
   "source": [
    "2 and 11 features seem sensible."
   ]
  },
  {
   "cell_type": "code",
   "execution_count": 28,
   "metadata": {},
   "outputs": [
    {
     "data": {
      "text/html": [
       "<table class=\"simpletable\">\n",
       "<caption>OLS Regression Results</caption>\n",
       "<tr>\n",
       "  <th>Dep. Variable:</th>          <td>mean</td>       <th>  R-squared:         </th> <td>   0.319</td>\n",
       "</tr>\n",
       "<tr>\n",
       "  <th>Model:</th>                   <td>OLS</td>       <th>  Adj. R-squared:    </th> <td>   0.310</td>\n",
       "</tr>\n",
       "<tr>\n",
       "  <th>Method:</th>             <td>Least Squares</td>  <th>  F-statistic:       </th> <td>   36.53</td>\n",
       "</tr>\n",
       "<tr>\n",
       "  <th>Date:</th>             <td>Mon, 19 Nov 2018</td> <th>  Prob (F-statistic):</th> <td>9.74e-14</td>\n",
       "</tr>\n",
       "<tr>\n",
       "  <th>Time:</th>                 <td>16:33:08</td>     <th>  Log-Likelihood:    </th> <td> -42.272</td>\n",
       "</tr>\n",
       "<tr>\n",
       "  <th>No. Observations:</th>      <td>   159</td>      <th>  AIC:               </th> <td>   90.54</td>\n",
       "</tr>\n",
       "<tr>\n",
       "  <th>Df Residuals:</th>          <td>   156</td>      <th>  BIC:               </th> <td>   99.75</td>\n",
       "</tr>\n",
       "<tr>\n",
       "  <th>Df Model:</th>              <td>     2</td>      <th>                     </th>     <td> </td>   \n",
       "</tr>\n",
       "<tr>\n",
       "  <th>Covariance Type:</th>      <td>nonrobust</td>    <th>                     </th>     <td> </td>   \n",
       "</tr>\n",
       "</table>\n",
       "<table class=\"simpletable\">\n",
       "<tr>\n",
       "             <td></td>               <th>coef</th>     <th>std err</th>      <th>t</th>      <th>P>|t|</th>  <th>[0.025</th>    <th>0.975]</th>  \n",
       "</tr>\n",
       "<tr>\n",
       "  <th>const</th>                  <td>    1.2815</td> <td>    0.056</td> <td>   22.993</td> <td> 0.000</td> <td>    1.171</td> <td>    1.392</td>\n",
       "</tr>\n",
       "<tr>\n",
       "  <th>('residual', 'mean')</th>   <td>   -1.0620</td> <td>    0.145</td> <td>   -7.323</td> <td> 0.000</td> <td>   -1.348</td> <td>   -0.776</td>\n",
       "</tr>\n",
       "<tr>\n",
       "  <th>('residual', 'median')</th> <td>    0.9037</td> <td>    0.106</td> <td>    8.535</td> <td> 0.000</td> <td>    0.695</td> <td>    1.113</td>\n",
       "</tr>\n",
       "</table>\n",
       "<table class=\"simpletable\">\n",
       "<tr>\n",
       "  <th>Omnibus:</th>       <td> 2.302</td> <th>  Durbin-Watson:     </th> <td>   1.716</td>\n",
       "</tr>\n",
       "<tr>\n",
       "  <th>Prob(Omnibus):</th> <td> 0.316</td> <th>  Jarque-Bera (JB):  </th> <td>   1.850</td>\n",
       "</tr>\n",
       "<tr>\n",
       "  <th>Skew:</th>          <td>-0.199</td> <th>  Prob(JB):          </th> <td>   0.397</td>\n",
       "</tr>\n",
       "<tr>\n",
       "  <th>Kurtosis:</th>      <td> 3.348</td> <th>  Cond. No.          </th> <td>    11.2</td>\n",
       "</tr>\n",
       "</table><br/><br/>Warnings:<br/>[1] Standard Errors assume that the covariance matrix of the errors is correctly specified."
      ],
      "text/plain": [
       "<class 'statsmodels.iolib.summary.Summary'>\n",
       "\"\"\"\n",
       "                            OLS Regression Results                            \n",
       "==============================================================================\n",
       "Dep. Variable:                   mean   R-squared:                       0.319\n",
       "Model:                            OLS   Adj. R-squared:                  0.310\n",
       "Method:                 Least Squares   F-statistic:                     36.53\n",
       "Date:                Mon, 19 Nov 2018   Prob (F-statistic):           9.74e-14\n",
       "Time:                        16:33:08   Log-Likelihood:                -42.272\n",
       "No. Observations:                 159   AIC:                             90.54\n",
       "Df Residuals:                     156   BIC:                             99.75\n",
       "Df Model:                           2                                         \n",
       "Covariance Type:            nonrobust                                         \n",
       "==========================================================================================\n",
       "                             coef    std err          t      P>|t|      [0.025      0.975]\n",
       "------------------------------------------------------------------------------------------\n",
       "const                      1.2815      0.056     22.993      0.000       1.171       1.392\n",
       "('residual', 'mean')      -1.0620      0.145     -7.323      0.000      -1.348      -0.776\n",
       "('residual', 'median')     0.9037      0.106      8.535      0.000       0.695       1.113\n",
       "==============================================================================\n",
       "Omnibus:                        2.302   Durbin-Watson:                   1.716\n",
       "Prob(Omnibus):                  0.316   Jarque-Bera (JB):                1.850\n",
       "Skew:                          -0.199   Prob(JB):                        0.397\n",
       "Kurtosis:                       3.348   Cond. No.                         11.2\n",
       "==============================================================================\n",
       "\n",
       "Warnings:\n",
       "[1] Standard Errors assume that the covariance matrix of the errors is correctly specified.\n",
       "\"\"\""
      ]
     },
     "execution_count": 28,
     "metadata": {},
     "output_type": "execute_result"
    }
   ],
   "source": [
    "model = carry_out_recursive_feature_elimination(n_features_to_select=2, X=X, Y=Y)\n",
    "model.summary()"
   ]
  },
  {
   "cell_type": "markdown",
   "metadata": {},
   "source": [
    "Mean SSerror reduces fixation, median increases it. This strategies with long tail (positive skew) distributions (giving a large mean and a low median) have a low fixation whereas strategies with a negative skew will be more likely to become fixed. This implies that strategies that usually don't act in a ZD way but can adapt to do so will behave well in an evolutionary setting."
   ]
  },
  {
   "cell_type": "code",
   "execution_count": 29,
   "metadata": {},
   "outputs": [
    {
     "data": {
      "text/html": [
       "<table class=\"simpletable\">\n",
       "<caption>OLS Regression Results</caption>\n",
       "<tr>\n",
       "  <th>Dep. Variable:</th>          <td>mean</td>       <th>  R-squared:         </th> <td>   0.488</td>\n",
       "</tr>\n",
       "<tr>\n",
       "  <th>Model:</th>                   <td>OLS</td>       <th>  Adj. R-squared:    </th> <td>   0.449</td>\n",
       "</tr>\n",
       "<tr>\n",
       "  <th>Method:</th>             <td>Least Squares</td>  <th>  F-statistic:       </th> <td>   12.71</td>\n",
       "</tr>\n",
       "<tr>\n",
       "  <th>Date:</th>             <td>Mon, 19 Nov 2018</td> <th>  Prob (F-statistic):</th> <td>1.09e-16</td>\n",
       "</tr>\n",
       "<tr>\n",
       "  <th>Time:</th>                 <td>16:33:16</td>     <th>  Log-Likelihood:    </th> <td> -19.663</td>\n",
       "</tr>\n",
       "<tr>\n",
       "  <th>No. Observations:</th>      <td>   159</td>      <th>  AIC:               </th> <td>   63.33</td>\n",
       "</tr>\n",
       "<tr>\n",
       "  <th>Df Residuals:</th>          <td>   147</td>      <th>  BIC:               </th> <td>   100.2</td>\n",
       "</tr>\n",
       "<tr>\n",
       "  <th>Df Model:</th>              <td>    11</td>      <th>                     </th>     <td> </td>   \n",
       "</tr>\n",
       "<tr>\n",
       "  <th>Covariance Type:</th>      <td>nonrobust</td>    <th>                     </th>     <td> </td>   \n",
       "</tr>\n",
       "</table>\n",
       "<table class=\"simpletable\">\n",
       "<tr>\n",
       "             <td></td>               <th>coef</th>     <th>std err</th>      <th>t</th>      <th>P>|t|</th>  <th>[0.025</th>    <th>0.975]</th>  \n",
       "</tr>\n",
       "<tr>\n",
       "  <th>const</th>                  <td>    1.3527</td> <td>    0.140</td> <td>    9.677</td> <td> 0.000</td> <td>    1.076</td> <td>    1.629</td>\n",
       "</tr>\n",
       "<tr>\n",
       "  <th>('residual', 'mean')</th>   <td>   -1.3278</td> <td>    0.248</td> <td>   -5.347</td> <td> 0.000</td> <td>   -1.819</td> <td>   -0.837</td>\n",
       "</tr>\n",
       "<tr>\n",
       "  <th>('residual', 'median')</th> <td>    1.0751</td> <td>    0.176</td> <td>    6.119</td> <td> 0.000</td> <td>    0.728</td> <td>    1.422</td>\n",
       "</tr>\n",
       "<tr>\n",
       "  <th>('residual', 'std')</th>    <td>   -2.4460</td> <td>    1.016</td> <td>   -2.407</td> <td> 0.017</td> <td>   -4.454</td> <td>   -0.438</td>\n",
       "</tr>\n",
       "<tr>\n",
       "  <th>('residual', 'max')</th>    <td>    0.3685</td> <td>    0.095</td> <td>    3.897</td> <td> 0.000</td> <td>    0.182</td> <td>    0.555</td>\n",
       "</tr>\n",
       "<tr>\n",
       "  <th>('residual', 'min')</th>    <td>   -0.3763</td> <td>    0.206</td> <td>   -1.824</td> <td> 0.070</td> <td>   -0.784</td> <td>    0.032</td>\n",
       "</tr>\n",
       "<tr>\n",
       "  <th>('residual', 'var')</th>    <td>    2.3670</td> <td>    1.469</td> <td>    1.611</td> <td> 0.109</td> <td>   -0.536</td> <td>    5.270</td>\n",
       "</tr>\n",
       "<tr>\n",
       "  <th>('chi', 'mean')</th>        <td>    0.0431</td> <td>    0.011</td> <td>    3.871</td> <td> 0.000</td> <td>    0.021</td> <td>    0.065</td>\n",
       "</tr>\n",
       "<tr>\n",
       "  <th>('chi', 'median')</th>      <td>   -0.0700</td> <td>    0.015</td> <td>   -4.633</td> <td> 0.000</td> <td>   -0.100</td> <td>   -0.040</td>\n",
       "</tr>\n",
       "<tr>\n",
       "  <th>('chi', 'std')</th>         <td>    0.0054</td> <td>    0.001</td> <td>    4.037</td> <td> 0.000</td> <td>    0.003</td> <td>    0.008</td>\n",
       "</tr>\n",
       "<tr>\n",
       "  <th>('chi', 'max')</th>         <td>   -0.0006</td> <td>    0.000</td> <td>   -3.232</td> <td> 0.002</td> <td>   -0.001</td> <td>   -0.000</td>\n",
       "</tr>\n",
       "<tr>\n",
       "  <th>('chi', 'min')</th>         <td>    0.0001</td> <td> 3.67e-05</td> <td>    2.987</td> <td> 0.003</td> <td> 3.71e-05</td> <td>    0.000</td>\n",
       "</tr>\n",
       "</table>\n",
       "<table class=\"simpletable\">\n",
       "<tr>\n",
       "  <th>Omnibus:</th>       <td> 0.681</td> <th>  Durbin-Watson:     </th> <td>   1.774</td>\n",
       "</tr>\n",
       "<tr>\n",
       "  <th>Prob(Omnibus):</th> <td> 0.712</td> <th>  Jarque-Bera (JB):  </th> <td>   0.358</td>\n",
       "</tr>\n",
       "<tr>\n",
       "  <th>Skew:</th>          <td>-0.066</td> <th>  Prob(JB):          </th> <td>   0.836</td>\n",
       "</tr>\n",
       "<tr>\n",
       "  <th>Kurtosis:</th>      <td> 3.192</td> <th>  Cond. No.          </th> <td>1.93e+05</td>\n",
       "</tr>\n",
       "</table><br/><br/>Warnings:<br/>[1] Standard Errors assume that the covariance matrix of the errors is correctly specified.<br/>[2] The condition number is large, 1.93e+05. This might indicate that there are<br/>strong multicollinearity or other numerical problems."
      ],
      "text/plain": [
       "<class 'statsmodels.iolib.summary.Summary'>\n",
       "\"\"\"\n",
       "                            OLS Regression Results                            \n",
       "==============================================================================\n",
       "Dep. Variable:                   mean   R-squared:                       0.488\n",
       "Model:                            OLS   Adj. R-squared:                  0.449\n",
       "Method:                 Least Squares   F-statistic:                     12.71\n",
       "Date:                Mon, 19 Nov 2018   Prob (F-statistic):           1.09e-16\n",
       "Time:                        16:33:16   Log-Likelihood:                -19.663\n",
       "No. Observations:                 159   AIC:                             63.33\n",
       "Df Residuals:                     147   BIC:                             100.2\n",
       "Df Model:                          11                                         \n",
       "Covariance Type:            nonrobust                                         \n",
       "==========================================================================================\n",
       "                             coef    std err          t      P>|t|      [0.025      0.975]\n",
       "------------------------------------------------------------------------------------------\n",
       "const                      1.3527      0.140      9.677      0.000       1.076       1.629\n",
       "('residual', 'mean')      -1.3278      0.248     -5.347      0.000      -1.819      -0.837\n",
       "('residual', 'median')     1.0751      0.176      6.119      0.000       0.728       1.422\n",
       "('residual', 'std')       -2.4460      1.016     -2.407      0.017      -4.454      -0.438\n",
       "('residual', 'max')        0.3685      0.095      3.897      0.000       0.182       0.555\n",
       "('residual', 'min')       -0.3763      0.206     -1.824      0.070      -0.784       0.032\n",
       "('residual', 'var')        2.3670      1.469      1.611      0.109      -0.536       5.270\n",
       "('chi', 'mean')            0.0431      0.011      3.871      0.000       0.021       0.065\n",
       "('chi', 'median')         -0.0700      0.015     -4.633      0.000      -0.100      -0.040\n",
       "('chi', 'std')             0.0054      0.001      4.037      0.000       0.003       0.008\n",
       "('chi', 'max')            -0.0006      0.000     -3.232      0.002      -0.001      -0.000\n",
       "('chi', 'min')             0.0001   3.67e-05      2.987      0.003    3.71e-05       0.000\n",
       "==============================================================================\n",
       "Omnibus:                        0.681   Durbin-Watson:                   1.774\n",
       "Prob(Omnibus):                  0.712   Jarque-Bera (JB):                0.358\n",
       "Skew:                          -0.066   Prob(JB):                        0.836\n",
       "Kurtosis:                       3.192   Cond. No.                     1.93e+05\n",
       "==============================================================================\n",
       "\n",
       "Warnings:\n",
       "[1] Standard Errors assume that the covariance matrix of the errors is correctly specified.\n",
       "[2] The condition number is large, 1.93e+05. This might indicate that there are\n",
       "strong multicollinearity or other numerical problems.\n",
       "\"\"\""
      ]
     },
     "execution_count": 29,
     "metadata": {},
     "output_type": "execute_result"
    }
   ],
   "source": [
    "model = carry_out_recursive_feature_elimination(n_features_to_select=11, X=X, Y=Y)\n",
    "model.summary()"
   ]
  },
  {
   "cell_type": "markdown",
   "metadata": {},
   "source": [
    "Let us double check that RSE is working properly using brute force."
   ]
  },
  {
   "cell_type": "code",
   "execution_count": 30,
   "metadata": {},
   "outputs": [],
   "source": [
    "import itertools\n",
    "\n",
    "def iterate_over_all_variables(number_of_features=2):\n",
    "    for variables in itertools.product(X.columns, repeat=number_of_features):\n",
    "        x = sm.add_constant(X[list(variables)])\n",
    "        model = sm.OLS(Y, x).fit()\n",
    "        yield variables, model.rsquared"
   ]
  },
  {
   "cell_type": "code",
   "execution_count": 31,
   "metadata": {},
   "outputs": [
    {
     "data": {
      "text/plain": [
       "((('residual', 'median'), ('residual', 'mean')), 0.31894117682467416)"
      ]
     },
     "execution_count": 31,
     "metadata": {},
     "output_type": "execute_result"
    }
   ],
   "source": [
    "max(iterate_over_all_variables(number_of_features=2), key=lambda x: x[1])"
   ]
  },
  {
   "cell_type": "code",
   "execution_count": 32,
   "metadata": {},
   "outputs": [
    {
     "data": {
      "text/plain": [
       "((('residual', 'median'), ('chi', 'median'), ('residual', 'mean')),\n",
       " 0.3510381294517789)"
      ]
     },
     "execution_count": 32,
     "metadata": {},
     "output_type": "execute_result"
    }
   ],
   "source": [
    "max(iterate_over_all_variables(number_of_features=3), key=lambda x: x[1])"
   ]
  }
 ],
 "metadata": {
  "kernelspec": {
   "display_name": "Python [conda env:testing-zd]",
   "language": "python",
   "name": "conda-env-testing-zd-py"
  },
  "language_info": {
   "codemirror_mode": {
    "name": "ipython",
    "version": 3
   },
   "file_extension": ".py",
   "mimetype": "text/x-python",
   "name": "python",
   "nbconvert_exporter": "python",
   "pygments_lexer": "ipython3",
   "version": "3.6.5"
  }
 },
 "nbformat": 4,
 "nbformat_minor": 2
}
