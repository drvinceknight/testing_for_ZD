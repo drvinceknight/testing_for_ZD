{
 "cells": [
  {
   "cell_type": "code",
   "execution_count": 1,
   "metadata": {},
   "outputs": [],
   "source": [
    "import pandas as pd\n",
    "import sympy as sym\n",
    "import numpy as np\n",
    "import matplotlib.pyplot as plt\n",
    "import axelrod as axl\n",
    "import axelrod.interaction_utils as iu\n",
    "\n",
    "import testzd as zd\n",
    "\n",
    "C, D = axl.Action.C, axl.Action.D"
   ]
  },
  {
   "cell_type": "markdown",
   "metadata": {},
   "source": [
    "# Investigate whether or not a strategy is zero determinant.\n",
    "\n",
    "In [1], given a match between 2 memory one strategies the concept of Zero Determinant strategies is introduced. This result showed that a player $p\\in\\mathbb{R}^4$ against a player $q\\in\\mathbb{R}^4$ could force a linear relationship between the scores.\n",
    "\n",
    "Assuming the following:\n",
    "\n",
    "- The utilities for player $p$: $S_x = (R, S, T, P)$ and for player $q$: $S_y = (R, T, S, P)$.\n",
    "- The normalised long run score for player $p$: $s_x$ and for player $q$: $s_y$.\n",
    "- Given $p=(p_1, p_2, p_3, p_4)$ a transformed (but equivalent) vector: $\\tilde p=(p_1 - 1, p_2 - 1, p_3, p_4)$, similarly: $\\tilde q=(1 - q_1, 1 - q_2, q_3, q_4)$\n",
    "\n",
    "The main result of [1] is that:\n",
    "\n",
    "if $\\tilde p = \\alpha S_x + \\beta S_y + \\gamma 1$ **or** if $\\tilde q = \\alpha S_x + \\beta S_y + \\gamma 1$ then:\n",
    "\n",
    "$$\n",
    "\\alpha s_x + \\beta s_y + \\gamma 1 = 0\n",
    "$$\n",
    "\n",
    "where $\\alpha, \\beta, \\gamma \\in \\mathbb{R}$\n",
    "\n",
    "The question arises:\n",
    "\n",
    "**Given a strategy $p$, is it a zero determinant strategy?**\n",
    "\n",
    "This is equivalent to finding $\\alpha, \\beta, \\gamma \\in \\mathbb{R}$ such that $\\tilde p = \\alpha S_x + \\beta S_y + \\gamma 1$.\n",
    "\n",
    "Recall that $\\tilde p, S_x, S_y, 1\\in\\mathbb{R}^{4\\times 1}$ so this corresponds to a linear system of 4 equations on three variables.\n",
    "\n",
    "$$\\tilde p=Mx$$\n",
    "\n",
    "Where:\n",
    "\n",
    "$$\n",
    "M = \\begin{pmatrix}S_x, S_y, 1\\end{pmatrix}\\in\\mathbb{R}^{4\\times 3}\n",
    "$$\n",
    "\n",
    "As an example consider the `extort-2` strategy defined in [2]. This is given by:\n",
    "\n",
    "$$p=(8/9, 1/2, 1/3, 0)$$\n",
    "\n",
    "it is defined to ensure:\n",
    "\n",
    "$$\n",
    "\\begin{aligned}\n",
    "\\alpha s_x - P &= 2(s_y - P)\\\\\n",
    "\\alpha s_x - 2s_y + P&=0\\\\\n",
    "\\end{aligned}\n",
    "$$\n",
    "\n",
    "Let us solve $Mx=\\tilde p$"
   ]
  },
  {
   "cell_type": "code",
   "execution_count": 2,
   "metadata": {},
   "outputs": [],
   "source": [
    "R, S, T, P = sym.S(3), sym.S(0), sym.S(5), sym.S(1)\n",
    "\n",
    "tilde_p = sym.Matrix([sym.S(8) / 9 - 1, sym.S(1) / 2 - 1, sym.S(1) / 3, sym.S(0)])\n",
    "M = sym.Matrix([[R, R, 1], \n",
    "                [S, T, 1],\n",
    "                [T, S, 1], \n",
    "                [P, P, 1]])"
   ]
  },
  {
   "cell_type": "code",
   "execution_count": 3,
   "metadata": {},
   "outputs": [
    {
     "data": {
      "text/plain": [
       "{(1/18, -1/9, 1/18)}"
      ]
     },
     "execution_count": 3,
     "metadata": {},
     "output_type": "execute_result"
    }
   ],
   "source": [
    "system = (M, tilde_p)\n",
    "symbols = sym.symbols(\"alpha, beta, gamma\")\n",
    "sym.linsolve(system, symbols)"
   ]
  },
  {
   "cell_type": "markdown",
   "metadata": {},
   "source": [
    "This gives $\\alpha = 1 / 18$, $\\beta = -1/9$ and $\\gamma = 1 / 18$ which ensures:\n",
    "\n",
    "$$\n",
    "1/18 s_x -1/9 s_y + 1/18 = 0\n",
    "$$\n",
    "\n",
    "multiplying this by 18 gives:\n",
    "\n",
    "\n",
    "$$\n",
    "s_x -2 s_y + 1 = 0\n",
    "$$\n",
    "\n",
    "which is the relationship described above."
   ]
  },
  {
   "cell_type": "markdown",
   "metadata": {},
   "source": [
    "Note that in practice, a vector $p$ might not be defined exactly: indeed it could be measured from observation. Thus: $p\\notin\\mathbb{Q}^{4\\times 1}$ but $p\\in\\mathbb{R}^{4\\times 1}$. As such that linear equations may no longer have exact solutions and/or indeed have no solutions at all as $M$ is not a square matrix. In this case, we can find the best fitting $\\bar x=(\\bar\\alpha, \\bar\\beta, \\bar\\gamma)$ which minimises:\n",
    "\n",
    "$$\n",
    "\\delta = \\|M x-\\tilde p\\|_2= \\sum_{i=1}^{4}\\left((M\\bar x)_i-\\tilde p_i\\right)^2\n",
    "$$\n",
    "\n",
    "Note that, $\\delta$ itself becomes a measure of how close $p$ is to being a ZD strategy.\n",
    "\n",
    "Thus we define a $\\delta$-ZD strategy as a strategy for which there exists $\\bar x = \\text{argmin}_x\\|M x-\\tilde p\\|_2$ such that $\\|M \\bar x-\\tilde p\\|_2\\leq \\delta$.\n",
    "\n",
    "We can see that `Extort-2` is $\\delta$-ZD for a very low value of $\\delta$:"
   ]
  },
  {
   "cell_type": "code",
   "execution_count": 4,
   "metadata": {},
   "outputs": [
    {
     "data": {
      "text/plain": [
       "True"
      ]
     },
     "execution_count": 4,
     "metadata": {},
     "output_type": "execute_result"
    }
   ],
   "source": [
    "p = np.array([8 / 9, 1 / 2, 1 / 3, 0])\n",
    "zd.is_delta_ZD(p, delta=10 ** -7)"
   ]
  },
  {
   "cell_type": "markdown",
   "metadata": {},
   "source": [
    "Note that the following vector is not:\n",
    "\n",
    "$$p = (8 / 9, 1, 1 / 3, 0)$$"
   ]
  },
  {
   "cell_type": "code",
   "execution_count": 5,
   "metadata": {},
   "outputs": [
    {
     "data": {
      "text/plain": [
       "False"
      ]
     },
     "execution_count": 5,
     "metadata": {},
     "output_type": "execute_result"
    }
   ],
   "source": [
    "zd.is_delta_ZD(np.array([8 / 9, 1, 1 / 3, 0]), delta=10 ** -7)"
   ]
  },
  {
   "cell_type": "markdown",
   "metadata": {},
   "source": [
    "Furthermore we can simulate the play of strategies and measure the probabilities:"
   ]
  },
  {
   "cell_type": "code",
   "execution_count": 6,
   "metadata": {},
   "outputs": [],
   "source": [
    "players = axl.ZDExtort2(), axl.Alternator()\n",
    "match = axl.Match(players, turns=10 ** 6)\n",
    "axl.seed(0)\n",
    "interactions = match.play()"
   ]
  },
  {
   "cell_type": "code",
   "execution_count": 7,
   "metadata": {},
   "outputs": [],
   "source": [
    "def get_p_from_interactions(interactions):\n",
    "    state_counter = iu.compute_state_to_action_distribution(interactions)[0]\n",
    "    p = []\n",
    "    for state in ((C, C), (C, D), (D, C), (D, D)):\n",
    "        try:\n",
    "            p.append(state_counter[(state, C)] / (state_counter[(state, C)]  + state_counter[(state, D)] ) )\n",
    "        except ZeroDivisionError:\n",
    "            p.append(np.NaN)\n",
    "    return np.array(p)"
   ]
  },
  {
   "cell_type": "code",
   "execution_count": 8,
   "metadata": {},
   "outputs": [
    {
     "data": {
      "text/plain": [
       "array([0.88787388, 0.49963841, 0.33404832, 0.        ])"
      ]
     },
     "execution_count": 8,
     "metadata": {},
     "output_type": "execute_result"
    }
   ],
   "source": [
    "p = get_p_from_interactions(interactions=interactions)\n",
    "p"
   ]
  },
  {
   "cell_type": "markdown",
   "metadata": {},
   "source": [
    "We see that that measure of $p$ is not $\\delta$-ZD for $\\delta=10 ^ {-7}$:"
   ]
  },
  {
   "cell_type": "code",
   "execution_count": 9,
   "metadata": {},
   "outputs": [
    {
     "data": {
      "text/plain": [
       "False"
      ]
     },
     "execution_count": 9,
     "metadata": {},
     "output_type": "execute_result"
    }
   ],
   "source": [
    "zd.is_delta_ZD(p, delta=10 ** -7)"
   ]
  },
  {
   "cell_type": "markdown",
   "metadata": {},
   "source": [
    "However it is for $\\epsilon=10 ^ {-2}$:"
   ]
  },
  {
   "cell_type": "code",
   "execution_count": 10,
   "metadata": {},
   "outputs": [
    {
     "data": {
      "text/plain": [
       "True"
      ]
     },
     "execution_count": 10,
     "metadata": {},
     "output_type": "execute_result"
    }
   ],
   "source": [
    "zd.is_delta_ZD(p, delta=10 ** -2)"
   ]
  },
  {
   "cell_type": "markdown",
   "metadata": {},
   "source": [
    "In fact the lowest $\\delta$ for which $p$ is $\\delta$-ZD is $\\delta=10 ^ {-3}$:"
   ]
  },
  {
   "cell_type": "code",
   "execution_count": 11,
   "metadata": {},
   "outputs": [
    {
     "data": {
      "text/plain": [
       "0.0001"
      ]
     },
     "execution_count": 11,
     "metadata": {},
     "output_type": "execute_result"
    }
   ],
   "source": [
    "zd.find_lowest_delta(p)"
   ]
  },
  {
   "cell_type": "markdown",
   "metadata": {},
   "source": [
    "## Dealing with missing states\n",
    "\n",
    "When observing strategies it is possible that some pairs of strategies do not visit all potential states. For example a cooperator against a defector will never visit the state $(\\text{D}, \\text{C})$. On these occasions, the $\\delta$-ZD definition can be modified. Given a set of visited states $S\\subseteq \\{\\text{C}, \\text{D}\\} ^2$: we define:\n",
    "\n",
    "$$\n",
    "M', \\tilde p'\n",
    "$$\n",
    "\n",
    "where $M', p'$ corresponds to the rows/elements of $M, \\tilde p$ that are in $S$.\n",
    "\n",
    "As before, we can then find the best fitting $\\bar x=(\\bar\\alpha, \\bar\\beta, \\bar\\gamma)$ which minimises:\n",
    "\n",
    "$$\n",
    "\\delta = \\|M' x-\\tilde p'\\|_2= \\sum_{i\\text{ corresponding to }S}\\left((M\\bar x)_i-\\tilde p_i\\right)^2\n",
    "$$\n",
    "\n",
    "For example let us consider a match between a cooperator and the `extort-2` strategy:"
   ]
  },
  {
   "cell_type": "code",
   "execution_count": 12,
   "metadata": {},
   "outputs": [
    {
     "data": {
      "text/plain": [
       "array([0.88902872,        nan, 0.3330999 ,        nan])"
      ]
     },
     "execution_count": 12,
     "metadata": {},
     "output_type": "execute_result"
    }
   ],
   "source": [
    "players = axl.ZDExtort2(), axl.Cooperator()\n",
    "match = axl.Match(players, turns=10 ** 6)\n",
    "axl.seed(0)\n",
    "interactions = match.play()\n",
    "p = get_p_from_interactions(interactions)\n",
    "p"
   ]
  },
  {
   "cell_type": "code",
   "execution_count": 13,
   "metadata": {},
   "outputs": [
    {
     "data": {
      "text/plain": [
       "True"
      ]
     },
     "execution_count": 13,
     "metadata": {},
     "output_type": "execute_result"
    }
   ],
   "source": [
    "zd.is_delta_ZD(p, delta=10 ** -7)"
   ]
  },
  {
   "cell_type": "markdown",
   "metadata": {},
   "source": [
    "Note however that in the case of $|S|>1$ (ie there are any missing states) then there exists a unique solution to the corresponding equations: thus, technically in the case of missing states **all** strategies are in fact $\\delta$-ZD for all $\\delta\\geq 0$."
   ]
  },
  {
   "cell_type": "code",
   "execution_count": 15,
   "metadata": {},
   "outputs": [
    {
     "data": {
      "text/plain": [
       "1e-20"
      ]
     },
     "execution_count": 15,
     "metadata": {},
     "output_type": "execute_result"
    }
   ],
   "source": [
    "zd.find_lowest_delta(p, step=10 ** -20)"
   ]
  },
  {
   "cell_type": "markdown",
   "metadata": {},
   "source": [
    "## Empirical observation\n",
    "\n",
    "Let us consider the latest tournament of the Axelrod project: awaiting data collection.\n",
    "\n",
    "## Evaluate the Press and Dyson tournament\n",
    "\n",
    "Firslty let us look at the tournament of [2]."
   ]
  },
  {
   "cell_type": "code",
   "execution_count": 16,
   "metadata": {},
   "outputs": [],
   "source": [
    "import dask as da\n",
    "import dask.dataframe as dd"
   ]
  },
  {
   "cell_type": "code",
   "execution_count": 85,
   "metadata": {},
   "outputs": [],
   "source": [
    "columns = [\"Player index\", \n",
    "           \"Opponent index\", \n",
    "           \"Player name\", \n",
    "           \"Opponent name\", \n",
    "           \"Turns\", \n",
    "           \"Score\", \n",
    "           \"CC count\",\n",
    "           \"CD count\", \n",
    "           \"DC count\",\n",
    "           \"DD count\",\n",
    "           \"CC to C count\",\n",
    "           \"CC to D count\",\n",
    "           \"CD to C count\",\n",
    "           \"CD to D count\",\n",
    "           \"DC to C count\",\n",
    "           \"DC to D count\",\n",
    "           \"DD to C count\",\n",
    "           \"DD to D count\",]\n",
    "ddf = dd.read_csv(\"./data/stewart_plotkin_tournament/interactions/std/main.csv\")[columns]"
   ]
  },
  {
   "cell_type": "code",
   "execution_count": 91,
   "metadata": {},
   "outputs": [],
   "source": [
    "groups = [\"Player index\", \"Opponent index\"]\n",
    "counts = [\"CC count\",\n",
    "          \"CD count\", \n",
    "          \"DC count\",\n",
    "          \"DD count\",\n",
    "          \"CC to C count\",\n",
    "          \"CC to D count\",\n",
    "          \"CD to C count\",\n",
    "          \"CD to D count\",\n",
    "          \"DC to C count\",\n",
    "          \"DC to D count\",\n",
    "          \"DD to C count\",\n",
    "          \"DD to D count\",]\n",
    "summation = ddf.groupby(groups)[counts].sum()\n",
    "df = da.compute(summation, da.get)[0]\n",
    "df.reset_index(inplace=True) "
   ]
  },
  {
   "cell_type": "code",
   "execution_count": 92,
   "metadata": {},
   "outputs": [
    {
     "data": {
      "text/html": [
       "<div>\n",
       "<style scoped>\n",
       "    .dataframe tbody tr th:only-of-type {\n",
       "        vertical-align: middle;\n",
       "    }\n",
       "\n",
       "    .dataframe tbody tr th {\n",
       "        vertical-align: top;\n",
       "    }\n",
       "\n",
       "    .dataframe thead th {\n",
       "        text-align: right;\n",
       "    }\n",
       "</style>\n",
       "<table border=\"1\" class=\"dataframe\">\n",
       "  <thead>\n",
       "    <tr style=\"text-align: right;\">\n",
       "      <th></th>\n",
       "      <th>Player index</th>\n",
       "      <th>Opponent index</th>\n",
       "      <th>CC count</th>\n",
       "      <th>CD count</th>\n",
       "      <th>DC count</th>\n",
       "      <th>DD count</th>\n",
       "      <th>CC to C count</th>\n",
       "      <th>CC to D count</th>\n",
       "      <th>CD to C count</th>\n",
       "      <th>CD to D count</th>\n",
       "      <th>DC to C count</th>\n",
       "      <th>DC to D count</th>\n",
       "      <th>DD to C count</th>\n",
       "      <th>DD to D count</th>\n",
       "    </tr>\n",
       "  </thead>\n",
       "  <tbody>\n",
       "    <tr>\n",
       "      <th>0</th>\n",
       "      <td>0</td>\n",
       "      <td>0</td>\n",
       "      <td>400000</td>\n",
       "      <td>0</td>\n",
       "      <td>0</td>\n",
       "      <td>0</td>\n",
       "      <td>399800</td>\n",
       "      <td>0</td>\n",
       "      <td>0</td>\n",
       "      <td>0</td>\n",
       "      <td>0</td>\n",
       "      <td>0</td>\n",
       "      <td>0</td>\n",
       "      <td>0</td>\n",
       "    </tr>\n",
       "    <tr>\n",
       "      <th>1</th>\n",
       "      <td>0</td>\n",
       "      <td>1</td>\n",
       "      <td>0</td>\n",
       "      <td>200000</td>\n",
       "      <td>0</td>\n",
       "      <td>0</td>\n",
       "      <td>0</td>\n",
       "      <td>0</td>\n",
       "      <td>199900</td>\n",
       "      <td>0</td>\n",
       "      <td>0</td>\n",
       "      <td>0</td>\n",
       "      <td>0</td>\n",
       "      <td>0</td>\n",
       "    </tr>\n",
       "    <tr>\n",
       "      <th>2</th>\n",
       "      <td>0</td>\n",
       "      <td>2</td>\n",
       "      <td>150500</td>\n",
       "      <td>49500</td>\n",
       "      <td>0</td>\n",
       "      <td>0</td>\n",
       "      <td>150424</td>\n",
       "      <td>0</td>\n",
       "      <td>49476</td>\n",
       "      <td>0</td>\n",
       "      <td>0</td>\n",
       "      <td>0</td>\n",
       "      <td>0</td>\n",
       "      <td>0</td>\n",
       "    </tr>\n",
       "    <tr>\n",
       "      <th>3</th>\n",
       "      <td>0</td>\n",
       "      <td>3</td>\n",
       "      <td>199900</td>\n",
       "      <td>100</td>\n",
       "      <td>0</td>\n",
       "      <td>0</td>\n",
       "      <td>199800</td>\n",
       "      <td>0</td>\n",
       "      <td>100</td>\n",
       "      <td>0</td>\n",
       "      <td>0</td>\n",
       "      <td>0</td>\n",
       "      <td>0</td>\n",
       "      <td>0</td>\n",
       "    </tr>\n",
       "    <tr>\n",
       "      <th>4</th>\n",
       "      <td>0</td>\n",
       "      <td>4</td>\n",
       "      <td>180052</td>\n",
       "      <td>19948</td>\n",
       "      <td>0</td>\n",
       "      <td>0</td>\n",
       "      <td>179958</td>\n",
       "      <td>0</td>\n",
       "      <td>19942</td>\n",
       "      <td>0</td>\n",
       "      <td>0</td>\n",
       "      <td>0</td>\n",
       "      <td>0</td>\n",
       "      <td>0</td>\n",
       "    </tr>\n",
       "  </tbody>\n",
       "</table>\n",
       "</div>"
      ],
      "text/plain": [
       "   Player index  Opponent index  CC count  CD count  DC count  DD count  \\\n",
       "0             0               0    400000         0         0         0   \n",
       "1             0               1         0    200000         0         0   \n",
       "2             0               2    150500     49500         0         0   \n",
       "3             0               3    199900       100         0         0   \n",
       "4             0               4    180052     19948         0         0   \n",
       "\n",
       "   CC to C count  CC to D count  CD to C count  CD to D count  DC to C count  \\\n",
       "0         399800              0              0              0              0   \n",
       "1              0              0         199900              0              0   \n",
       "2         150424              0          49476              0              0   \n",
       "3         199800              0            100              0              0   \n",
       "4         179958              0          19942              0              0   \n",
       "\n",
       "   DC to D count  DD to C count  DD to D count  \n",
       "0              0              0              0  \n",
       "1              0              0              0  \n",
       "2              0              0              0  \n",
       "3              0              0              0  \n",
       "4              0              0              0  "
      ]
     },
     "execution_count": 92,
     "metadata": {},
     "output_type": "execute_result"
    }
   ],
   "source": [
    "df.head()"
   ]
  },
  {
   "cell_type": "code",
   "execution_count": 93,
   "metadata": {},
   "outputs": [],
   "source": [
    "df[\"complete\"] = df[\"CC count\"] * df[\"CD count\"] * df[\"DC count\"] *  df[\"DD count\"] > 0\n",
    "columns = [\"Player index\", \"Opponent index\", \"complete\"]\n",
    "probabilities = []\n",
    "for state in (\"CC\", \"CD\", \"DC\", \"DD\"):\n",
    "    column = f\"P(C|{state})\"\n",
    "    probabilities.append(column)\n",
    "    columns.append(column)\n",
    "    df[column] = df[f\"{state} to C count\"] / (df[f\"{state} to C count\"] + df[f\"{state} to D count\"])\n",
    "df = df[columns]"
   ]
  },
  {
   "cell_type": "code",
   "execution_count": 94,
   "metadata": {},
   "outputs": [],
   "source": [
    "deltas = []\n",
    "\n",
    "for index, row in df.iterrows():\n",
    "    deltas.append(zd.find_lowest_delta(row[probabilities].values.astype('float64')))\n",
    "df[\"delta\"] = deltas"
   ]
  },
  {
   "cell_type": "code",
   "execution_count": 101,
   "metadata": {},
   "outputs": [
    {
     "data": {
      "text/html": [
       "<div>\n",
       "<style scoped>\n",
       "    .dataframe tbody tr th:only-of-type {\n",
       "        vertical-align: middle;\n",
       "    }\n",
       "\n",
       "    .dataframe tbody tr th {\n",
       "        vertical-align: top;\n",
       "    }\n",
       "\n",
       "    .dataframe thead tr th {\n",
       "        text-align: left;\n",
       "    }\n",
       "\n",
       "    .dataframe thead tr:last-of-type th {\n",
       "        text-align: right;\n",
       "    }\n",
       "</style>\n",
       "<table border=\"1\" class=\"dataframe\">\n",
       "  <thead>\n",
       "    <tr>\n",
       "      <th></th>\n",
       "      <th colspan=\"8\" halign=\"left\">Opponent index</th>\n",
       "      <th colspan=\"2\" halign=\"left\">P(C|CC)</th>\n",
       "      <th>...</th>\n",
       "      <th colspan=\"2\" halign=\"left\">Player index</th>\n",
       "      <th colspan=\"8\" halign=\"left\">delta</th>\n",
       "    </tr>\n",
       "    <tr>\n",
       "      <th></th>\n",
       "      <th>count</th>\n",
       "      <th>mean</th>\n",
       "      <th>std</th>\n",
       "      <th>min</th>\n",
       "      <th>25%</th>\n",
       "      <th>50%</th>\n",
       "      <th>75%</th>\n",
       "      <th>max</th>\n",
       "      <th>count</th>\n",
       "      <th>mean</th>\n",
       "      <th>...</th>\n",
       "      <th>75%</th>\n",
       "      <th>max</th>\n",
       "      <th>count</th>\n",
       "      <th>mean</th>\n",
       "      <th>std</th>\n",
       "      <th>min</th>\n",
       "      <th>25%</th>\n",
       "      <th>50%</th>\n",
       "      <th>75%</th>\n",
       "      <th>max</th>\n",
       "    </tr>\n",
       "    <tr>\n",
       "      <th>complete</th>\n",
       "      <th></th>\n",
       "      <th></th>\n",
       "      <th></th>\n",
       "      <th></th>\n",
       "      <th></th>\n",
       "      <th></th>\n",
       "      <th></th>\n",
       "      <th></th>\n",
       "      <th></th>\n",
       "      <th></th>\n",
       "      <th></th>\n",
       "      <th></th>\n",
       "      <th></th>\n",
       "      <th></th>\n",
       "      <th></th>\n",
       "      <th></th>\n",
       "      <th></th>\n",
       "      <th></th>\n",
       "      <th></th>\n",
       "      <th></th>\n",
       "      <th></th>\n",
       "    </tr>\n",
       "  </thead>\n",
       "  <tbody>\n",
       "    <tr>\n",
       "      <th>False</th>\n",
       "      <td>135.0</td>\n",
       "      <td>6.288889</td>\n",
       "      <td>4.071867</td>\n",
       "      <td>0.0</td>\n",
       "      <td>3.0</td>\n",
       "      <td>7.0</td>\n",
       "      <td>10.0</td>\n",
       "      <td>13.0</td>\n",
       "      <td>97.0</td>\n",
       "      <td>0.992669</td>\n",
       "      <td>...</td>\n",
       "      <td>10.0</td>\n",
       "      <td>13.0</td>\n",
       "      <td>135.0</td>\n",
       "      <td>0.000022</td>\n",
       "      <td>0.000042</td>\n",
       "      <td>0.0000</td>\n",
       "      <td>0.0000</td>\n",
       "      <td>0.0000</td>\n",
       "      <td>0.0000</td>\n",
       "      <td>0.0001</td>\n",
       "    </tr>\n",
       "    <tr>\n",
       "      <th>True</th>\n",
       "      <td>61.0</td>\n",
       "      <td>6.967213</td>\n",
       "      <td>3.966389</td>\n",
       "      <td>2.0</td>\n",
       "      <td>4.0</td>\n",
       "      <td>6.0</td>\n",
       "      <td>11.0</td>\n",
       "      <td>13.0</td>\n",
       "      <td>61.0</td>\n",
       "      <td>0.862670</td>\n",
       "      <td>...</td>\n",
       "      <td>11.0</td>\n",
       "      <td>13.0</td>\n",
       "      <td>61.0</td>\n",
       "      <td>0.066477</td>\n",
       "      <td>0.120343</td>\n",
       "      <td>0.0001</td>\n",
       "      <td>0.0005</td>\n",
       "      <td>0.0062</td>\n",
       "      <td>0.0566</td>\n",
       "      <td>0.5001</td>\n",
       "    </tr>\n",
       "  </tbody>\n",
       "</table>\n",
       "<p>2 rows × 56 columns</p>\n",
       "</div>"
      ],
      "text/plain": [
       "         Opponent index                                                 \\\n",
       "                  count      mean       std  min  25%  50%   75%   max   \n",
       "complete                                                                 \n",
       "False             135.0  6.288889  4.071867  0.0  3.0  7.0  10.0  13.0   \n",
       "True               61.0  6.967213  3.966389  2.0  4.0  6.0  11.0  13.0   \n",
       "\n",
       "         P(C|CC)             ...   Player index        delta            \\\n",
       "           count      mean   ...            75%   max  count      mean   \n",
       "complete                     ...                                         \n",
       "False       97.0  0.992669   ...           10.0  13.0  135.0  0.000022   \n",
       "True        61.0  0.862670   ...           11.0  13.0   61.0  0.066477   \n",
       "\n",
       "                                                            \n",
       "               std     min     25%     50%     75%     max  \n",
       "complete                                                    \n",
       "False     0.000042  0.0000  0.0000  0.0000  0.0000  0.0001  \n",
       "True      0.120343  0.0001  0.0005  0.0062  0.0566  0.5001  \n",
       "\n",
       "[2 rows x 56 columns]"
      ]
     },
     "execution_count": 101,
     "metadata": {},
     "output_type": "execute_result"
    }
   ],
   "source": [
    "df.groupby([\"complete\"]).describe()"
   ]
  },
  {
   "cell_type": "markdown",
   "metadata": {},
   "source": [
    "## References\n",
    "\n",
    "[1] Press, William H., and Freeman J. Dyson. \"Iterated Prisoner’s Dilemma contains strategies that dominate any evolutionary opponent.\" Proceedings of the National Academy of Sciences 109.26 (2012): 10409-10413\n",
    "\n",
    "[2] Stewart, Alexander J., and Joshua B. Plotkin. \"Extortion and cooperation in the Prisoner’s Dilemma.\" Proceedings of the National Academy of Sciences 109.26 (2012): 10134-10135."
   ]
  }
 ],
 "metadata": {
  "anaconda-cloud": {},
  "kernelspec": {
   "display_name": "Python [conda env:testing-zd]",
   "language": "python",
   "name": "conda-env-testing-zd-py"
  },
  "language_info": {
   "codemirror_mode": {
    "name": "ipython",
    "version": 3
   },
   "file_extension": ".py",
   "mimetype": "text/x-python",
   "name": "python",
   "nbconvert_exporter": "python",
   "pygments_lexer": "ipython3",
   "version": "3.6.5"
  }
 },
 "nbformat": 4,
 "nbformat_minor": 2
}
