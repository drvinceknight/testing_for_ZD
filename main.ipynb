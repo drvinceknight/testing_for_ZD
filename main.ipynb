{
 "cells": [
  {
   "cell_type": "code",
   "execution_count": 34,
   "metadata": {},
   "outputs": [],
   "source": [
    "import pandas as pd\n",
    "import sympy as sym\n",
    "import numpy as np\n",
    "import matplotlib.pyplot as plt\n",
    "import axelrod as axl\n",
    "import axelrod.interaction_utils as iu\n",
    "\n",
    "import testzd as zd\n",
    "\n",
    "C, D = axl.Action.C, axl.Action.D"
   ]
  },
  {
   "cell_type": "markdown",
   "metadata": {},
   "source": [
    "# Investigate whether or not a strategy is zero determinant.\n",
    "\n",
    "In [1], given a match between 2 memory one strategies the concept of Zero Determinant strategies is introduced. This result showed that a player $p\\in\\mathbb{R}^4$ against a player $q\\in\\mathbb{R}^4$ could force a linear relationship between the scores.\n",
    "\n",
    "Assuming the following:\n",
    "\n",
    "- The utilities for player $p$: $S_x = (R, S, T, P)$ and for player $q$: $S_y = (R, T, S, P)$.\n",
    "- The normalised long run score for player $p$: $s_x$ and for player $q$: $s_y$.\n",
    "- Given $p=(p_1, p_2, p_3, p_4)$ a transformed (but equivalent) vector: $\\tilde p=(p_1 - 1, p_2 - 1, p_3, p_4)$, similarly: $\\tilde q=(1 - q_1, 1 - q_2, q_3, q_4)$\n",
    "\n",
    "The main result of [1] is that:\n",
    "\n",
    "if $\\tilde p = \\alpha S_x + \\beta S_y + \\gamma 1$ **or** if $\\tilde q = \\alpha S_x + \\beta S_y + \\gamma 1$ then:\n",
    "\n",
    "$$\n",
    "\\alpha s_x + \\beta s_y + \\gamma 1 = 0\n",
    "$$\n",
    "\n",
    "where $\\alpha, \\beta, \\gamma \\in \\mathbb{R}$\n",
    "\n",
    "The question arises:\n",
    "\n",
    "**Given a strategy $p$, is it a zero determinant strategy?**\n",
    "\n",
    "This is equivalent to finding $\\alpha, \\beta, \\gamma \\in \\mathbb{R}$ such that $\\tilde p = \\alpha S_x + \\beta S_y + \\gamma 1$.\n",
    "\n",
    "Recall that $\\tilde p, S_x, S_y, 1\\in\\mathbb{R}^{4\\times 1}$ so this corresponds to a linear system of 4 equations on three variables.\n",
    "\n",
    "$$\\tilde p=Mx$$\n",
    "\n",
    "Where:\n",
    "\n",
    "$$\n",
    "M = \\begin{pmatrix}S_x, S_y, 1\\end{pmatrix}\\in\\mathbb{R}^{4\\times 3}\n",
    "$$\n",
    "\n",
    "As an example consider the `extort-2` strategy defined in [2]. This is given by:\n",
    "\n",
    "$$p=(8/9, 1/2, 1/3, 0)$$\n",
    "\n",
    "it is defined to ensure:\n",
    "\n",
    "$$\n",
    "\\begin{aligned}\n",
    "\\alpha s_x - P &= 2(s_y - P)\\\\\n",
    "\\alpha s_x - 2s_y + P&=0\\\\\n",
    "\\end{aligned}\n",
    "$$\n",
    "\n",
    "Let us solve $Mx=\\tilde p$"
   ]
  },
  {
   "cell_type": "code",
   "execution_count": 35,
   "metadata": {},
   "outputs": [],
   "source": [
    "R, S, T, P = sym.S(3), sym.S(0), sym.S(5), sym.S(1)\n",
    "\n",
    "tilde_p = sym.Matrix([sym.S(8) / 9 - 1, sym.S(1) / 2 - 1, sym.S(1) / 3, sym.S(0)])\n",
    "M = sym.Matrix([[R, R, 1], \n",
    "                [S, T, 1],\n",
    "                [T, S, 1], \n",
    "                [P, P, 1]])"
   ]
  },
  {
   "cell_type": "code",
   "execution_count": 36,
   "metadata": {},
   "outputs": [
    {
     "data": {
      "text/plain": [
       "{(1/18, -1/9, 1/18)}"
      ]
     },
     "execution_count": 36,
     "metadata": {},
     "output_type": "execute_result"
    }
   ],
   "source": [
    "system = (M, tilde_p)\n",
    "symbols = sym.symbols(\"alpha, beta, gamma\")\n",
    "sym.linsolve(system, symbols)"
   ]
  },
  {
   "cell_type": "markdown",
   "metadata": {},
   "source": [
    "This gives $\\alpha = 1 / 18$, $\\beta = -1/9$ and $\\gamma = 1 / 18$ which ensures:\n",
    "\n",
    "$$\n",
    "1/18 s_x -1/9 s_y + 1/18 = 0\n",
    "$$\n",
    "\n",
    "multiplying this by 18 gives:\n",
    "\n",
    "\n",
    "$$\n",
    "s_x -2 s_y + 1 = 0\n",
    "$$\n",
    "\n",
    "which is the relationship described above."
   ]
  },
  {
   "cell_type": "markdown",
   "metadata": {},
   "source": [
    "Note that in practice, a vector $p$ might not be defined exactly: indeed it could be measured from observation. Thus: $p\\notin\\mathbb{Q}^{4\\times 1}$ but $p\\in\\mathbb{R}^{4\\times 1}$. As such that linear equations may no longer have exact solutions and/or indeed have no solutions at all as $M$ is not a square matrix.\n",
    "\n",
    "A practical approach to checking if a strategy is ZD or not makes use of the continuity of the determinant of a matrix. As the calculation of a matrix is a linear combination of its elements, a matrix with determinant \"almost\" zero is close to a matrix that has zero determinant.\n",
    "\n",
    "## $\\epsilon$-ZD strategies\n",
    "\n",
    "We define:\n",
    "\n",
    "$$\\bar M ^{(i)} = M_{(i; i)}$$\n",
    "\n",
    "The matrix $\\bar M ^{(i)}\\in\\mathbb{R}^{3\\times 3}$ is the matrix $M$ with the $i$th row removed.\n",
    "\n",
    "Similarly:\n",
    "\n",
    "$$\\bar p^{(i)} = \\tilde p_{(i)}$$\n",
    "\n",
    "The vector $\\bar p^{(i)}\\in\\mathbb{R}^{3\\times 1}$ is the vector $\\tilde p$ with the $i$th element removed.\n",
    "\n",
    "Solving \n",
    "\n",
    "$$\\bar M ^{(i)} x^{(i)} = \\bar p^{(i)}$$ \n",
    "\n",
    "gives $\\bar x^{(i)}$ and if $\\min _{1\\leq i\\leq 4}|M_i\\bar x^{(i)} - \\tilde p_i| < \\epsilon$ for some $\\epsilon > 0$ then $p$ is $\\epsilon$-ZD.\n",
    "\n",
    "Thus if $\\epsilon$-ZD are strategies for which values of $\\alpha, \\beta, \\gamma$ can be found that make the strategy \"close\" to being a ZD strategy.\n",
    "\n",
    "Let us confirm that `Extort-2` is $\\epsilon$-ZD with $\\epsilon=10 ^ {-7}$:"
   ]
  },
  {
   "cell_type": "code",
   "execution_count": 55,
   "metadata": {},
   "outputs": [
    {
     "data": {
      "text/plain": [
       "True"
      ]
     },
     "execution_count": 55,
     "metadata": {},
     "output_type": "execute_result"
    }
   ],
   "source": [
    "p = np.array([8 / 9, 1 / 2, 1 / 3, 0])\n",
    "zd.is_epsilon_ZD(p, epsilon=10 ** -7)"
   ]
  },
  {
   "cell_type": "markdown",
   "metadata": {},
   "source": [
    "Note that the following vector is not:\n",
    "\n",
    "$$p = (8 / 9, 1, 1 / 3, 0)$$"
   ]
  },
  {
   "cell_type": "code",
   "execution_count": 59,
   "metadata": {},
   "outputs": [
    {
     "data": {
      "text/plain": [
       "False"
      ]
     },
     "execution_count": 59,
     "metadata": {},
     "output_type": "execute_result"
    }
   ],
   "source": [
    "zd.is_epsilon_ZD(np.array([8 / 9, 1, 1 / 3, 0]), epsilon=10 ** -7)"
   ]
  },
  {
   "cell_type": "markdown",
   "metadata": {},
   "source": [
    "Furthermore we can simulate the play of strategies and measure the probabilities:"
   ]
  },
  {
   "cell_type": "code",
   "execution_count": 60,
   "metadata": {},
   "outputs": [],
   "source": [
    "players = axl.ZDExtort2(), axl.Alternator()\n",
    "match = axl.Match(players, turns=10 ** 6)\n",
    "interactions = match.play()"
   ]
  },
  {
   "cell_type": "code",
   "execution_count": 61,
   "metadata": {},
   "outputs": [
    {
     "data": {
      "text/plain": [
       "array([0.88918582, 0.49905945, 0.33246002, 0.        ])"
      ]
     },
     "execution_count": 61,
     "metadata": {},
     "output_type": "execute_result"
    }
   ],
   "source": [
    "p = []\n",
    "state_counter = iu.compute_normalised_state_to_action_distribution(interactions)[0]\n",
    "for state in ((C, C), (C, D), (D, C), (D, D)):\n",
    "    p.append(state_counter[(state, C)])\n",
    "p = np.array(p)\n",
    "p"
   ]
  },
  {
   "cell_type": "markdown",
   "metadata": {},
   "source": [
    "We see that that measure of $p$ is not $\\epsilon$-ZD for $\\epsilon=10 ^ {-7}$:"
   ]
  },
  {
   "cell_type": "code",
   "execution_count": 64,
   "metadata": {},
   "outputs": [
    {
     "data": {
      "text/plain": [
       "False"
      ]
     },
     "execution_count": 64,
     "metadata": {},
     "output_type": "execute_result"
    }
   ],
   "source": [
    "zd.is_epsilon_ZD(p, epsilon=10 ** -7)"
   ]
  },
  {
   "cell_type": "markdown",
   "metadata": {},
   "source": [
    "However it is for $\\epsilon=10 ^ {-2}$:"
   ]
  },
  {
   "cell_type": "code",
   "execution_count": 65,
   "metadata": {},
   "outputs": [
    {
     "data": {
      "text/plain": [
       "True"
      ]
     },
     "execution_count": 65,
     "metadata": {},
     "output_type": "execute_result"
    }
   ],
   "source": [
    "zd.is_epsilon_ZD(p, epsilon=10 ** -2)"
   ]
  },
  {
   "cell_type": "markdown",
   "metadata": {},
   "source": [
    "In fact the lowest $\\epsilon$ for which $p$ is $\\epsilon$-ZD is $\\epsilon=0.0016$:"
   ]
  },
  {
   "cell_type": "code",
   "execution_count": 67,
   "metadata": {},
   "outputs": [
    {
     "data": {
      "text/plain": [
       "0.0016000000000000005"
      ]
     },
     "execution_count": 67,
     "metadata": {},
     "output_type": "execute_result"
    }
   ],
   "source": [
    "zd.find_lowest_epsilon(p)"
   ]
  },
  {
   "cell_type": "markdown",
   "metadata": {},
   "source": [
    "Let us consider a few other strategies/tournament and evaluate their performance:"
   ]
  },
  {
   "cell_type": "markdown",
   "metadata": {},
   "source": [
    "## Empirical observation\n",
    "\n",
    "Let us consider the latest tournament of the Axelrod project: awaiting data collection.\n",
    "\n",
    "## Evaluate the Press and Dyson tournament\n",
    "\n",
    "Firslty let us look at the tournament of [2]."
   ]
  },
  {
   "cell_type": "code",
   "execution_count": 71,
   "metadata": {},
   "outputs": [],
   "source": [
    "df = pd.read_csv(\"./data/stewart_plotkin_tournament/summary/std/main.csv\")"
   ]
  },
  {
   "cell_type": "code",
   "execution_count": 73,
   "metadata": {},
   "outputs": [],
   "source": [
    "def analyse_tournament_behaviour(df, epsilons):\n",
    "    \"\"\"\n",
    "    Obtain a pandas data from that tests the behaviour of a tournament for a\n",
    "    range of epsilons.\n",
    "    \"\"\"\n",
    "    columns = [\"CC_to_C_rate\", \"CD_to_C_rate\", \"DC_to_C_rate\", \"DD_to_C_rate\"]\n",
    "\n",
    "    counts = []\n",
    "\n",
    "    data = {\"epsilon\":epsilons,\n",
    "            \"counts\":[],\n",
    "            \"five_percent_quantile_ranks\":[],\n",
    "            \"min_ranks\":[],\n",
    "            \"median_ranks\":[],\n",
    "            \"ninetyfive_percent_quantile_ranks\":[],\n",
    "            \"max_ranks\":[],\n",
    "            \"min_score_per_turn\":[],\n",
    "            \"five_percent_quantile_score_per_turn\":[],\n",
    "            \"mean_score_per_turn\":[],\n",
    "            \"ninetyfive_percent_quantile_score_per_turn\":[],\n",
    "            \"max_score_per_turn\":[],\n",
    "            \"min_number_of_wins\":[],\n",
    "            \"five_percent_quantile_number_of_wins\":[],\n",
    "            \"median_number_of_wins\":[],\n",
    "            \"ninetyfive_percent_quantile_number_of_wins\":[],\n",
    "            \"max_number_of_wins\":[],\n",
    "            \"min_cooperation_rate\":[],\n",
    "            \"five_percent_quantile_cooperation_rate\":[],\n",
    "            \"mean_cooperation_rate\":[],\n",
    "            \"ninetyfive_percent_quantile_cooperation_rate\":[],\n",
    "            \"max_cooperation_rate\":[]}\n",
    "\n",
    "    for epsilon in epsilons:\n",
    "        played_ZD = []\n",
    "\n",
    "        for _, row in df.iterrows():\n",
    "            p = np.array(row[columns])\n",
    "            played_ZD.append(zd.is_epsilon_ZD(p, epsilon=epsilon))\n",
    "\n",
    "        data[\"counts\"].append(sum(played_ZD))\n",
    "\n",
    "        zd_df = df[played_ZD]\n",
    "\n",
    "        data[\"min_ranks\"].append(zd_df[\"Rank\"].min())\n",
    "        data[\"five_percent_quantile_ranks\"].append(zd_df[\"Rank\"].quantile(q=0.05))\n",
    "        data[\"median_ranks\"].append(zd_df[\"Rank\"].median())\n",
    "        data[\"ninetyfive_percent_quantile_ranks\"].append(zd_df[\"Rank\"].quantile(q=0.95))\n",
    "        data[\"max_ranks\"].append(zd_df[\"Rank\"].max())\n",
    "\n",
    "        data[\"min_score_per_turn\"].append(zd_df[\"Median_score\"].min())\n",
    "        data[\"five_percent_quantile_score_per_turn\"].append(zd_df[\"Median_score\"].quantile(q=0.05))\n",
    "        data[\"mean_score_per_turn\"].append(zd_df[\"Median_score\"].mean())\n",
    "        data[\"ninetyfive_percent_quantile_score_per_turn\"].append(zd_df[\"Median_score\"].quantile(q=0.95))\n",
    "        data[\"max_score_per_turn\"].append(zd_df[\"Median_score\"].max())\n",
    "\n",
    "        data[\"min_number_of_wins\"].append(zd_df[\"Wins\"].min())\n",
    "        data[\"five_percent_quantile_number_of_wins\"].append(zd_df[\"Wins\"].quantile(q=0.05))\n",
    "        data[\"median_number_of_wins\"].append(zd_df[\"Wins\"].median())\n",
    "        data[\"ninetyfive_percent_quantile_number_of_wins\"].append(zd_df[\"Wins\"].quantile(q=0.95))\n",
    "        data[\"max_number_of_wins\"].append(zd_df[\"Wins\"].max())\n",
    "\n",
    "        data[\"min_cooperation_rate\"].append(zd_df[\"Cooperation_rating\"].min())\n",
    "        data[\"five_percent_quantile_cooperation_rate\"].append(zd_df[\"Cooperation_rating\"].quantile(q=0.05))\n",
    "        data[\"mean_cooperation_rate\"].append(zd_df[\"Cooperation_rating\"].mean())\n",
    "        data[\"ninetyfive_percent_quantile_cooperation_rate\"].append(zd_df[\"Cooperation_rating\"].quantile(q=0.95))\n",
    "        data[\"max_cooperation_rate\"].append(zd_df[\"Cooperation_rating\"].max())\n",
    "    return pd.DataFrame(data)"
   ]
  },
  {
   "cell_type": "code",
   "execution_count": 75,
   "metadata": {},
   "outputs": [],
   "source": [
    "epsilons = 10 ** np.linspace(0, -4, 100)"
   ]
  },
  {
   "cell_type": "code",
   "execution_count": 76,
   "metadata": {},
   "outputs": [],
   "source": [
    "std_df = analyse_tournament_behaviour(df, epsilons=epsilons)"
   ]
  },
  {
   "cell_type": "code",
   "execution_count": 78,
   "metadata": {},
   "outputs": [
    {
     "data": {
      "image/png": "[encoded data removed]",
      "text/plain": [
       "<Figure size 432x288 with 1 Axes>"
      ]
     },
     "metadata": {},
     "output_type": "display_data"
    }
   ],
   "source": [
    "fig = plt.figure()\n",
    "ax = plt.gca()\n",
    "\n",
    "ax.plot(std_df[\"epsilon\"], std_df[\"counts\"]);\n",
    "ax.set_xscale('log')\n",
    "    \n",
    "plt.xlabel(\"$\\log(\\epsilon)$\")\n",
    "plt.ylabel(f\"Number of $\\epsilon$-ZD strategies\")\n",
    "plt.show();"
   ]
  },
  {
   "cell_type": "code",
   "execution_count": 84,
   "metadata": {},
   "outputs": [
    {
     "data": {
      "image/png": "[encoded data removed]",
      "text/plain": [
       "<Figure size 432x288 with 1 Axes>"
      ]
     },
     "metadata": {},
     "output_type": "display_data"
    }
   ],
   "source": [
    "fig = plt.figure()\n",
    "ax = plt.gca()\n",
    "\n",
    "ax.plot(std_df[\"epsilon\"], std_df[\"max_number_of_wins\"]);\n",
    "ax.set_xscale('log')\n",
    "    \n",
    "plt.xlabel(\"$\\log(\\epsilon)$\")\n",
    "plt.ylabel(f\"Max number of wins of $\\epsilon$-ZD strategies\")\n",
    "plt.show();"
   ]
  },
  {
   "cell_type": "markdown",
   "metadata": {},
   "source": [
    "## References\n",
    "\n",
    "[1] Press, William H., and Freeman J. Dyson. \"Iterated Prisoner’s Dilemma contains strategies that dominate any evolutionary opponent.\" Proceedings of the National Academy of Sciences 109.26 (2012): 10409-10413\n",
    "\n",
    "[2] Stewart, Alexander J., and Joshua B. Plotkin. \"Extortion and cooperation in the Prisoner’s Dilemma.\" Proceedings of the National Academy of Sciences 109.26 (2012): 10134-10135."
   ]
  },
  {
   "cell_type": "code",
   "execution_count": 12,
   "metadata": {},
   "outputs": [],
   "source": []
  },
  {
   "cell_type": "code",
   "execution_count": 13,
   "metadata": {},
   "outputs": [
    {
     "data": {
      "text/html": [
       "<div>\n",
       "<style scoped>\n",
       "    .dataframe tbody tr th:only-of-type {\n",
       "        vertical-align: middle;\n",
       "    }\n",
       "\n",
       "    .dataframe tbody tr th {\n",
       "        vertical-align: top;\n",
       "    }\n",
       "\n",
       "    .dataframe thead th {\n",
       "        text-align: right;\n",
       "    }\n",
       "</style>\n",
       "<table border=\"1\" class=\"dataframe\">\n",
       "  <thead>\n",
       "    <tr style=\"text-align: right;\">\n",
       "      <th></th>\n",
       "      <th>Interaction index</th>\n",
       "      <th>Player index</th>\n",
       "      <th>Opponent index</th>\n",
       "      <th>Repetition</th>\n",
       "      <th>Player name</th>\n",
       "      <th>Opponent name</th>\n",
       "      <th>Actions</th>\n",
       "      <th>Score</th>\n",
       "      <th>Score difference</th>\n",
       "      <th>Turns</th>\n",
       "      <th>...</th>\n",
       "      <th>DD count</th>\n",
       "      <th>CC to C count</th>\n",
       "      <th>CC to D count</th>\n",
       "      <th>CD to C count</th>\n",
       "      <th>CD to D count</th>\n",
       "      <th>DC to C count</th>\n",
       "      <th>DC to D count</th>\n",
       "      <th>DD to C count</th>\n",
       "      <th>DD to D count</th>\n",
       "      <th>Good partner</th>\n",
       "    </tr>\n",
       "  </thead>\n",
       "  <tbody>\n",
       "    <tr>\n",
       "      <th>0</th>\n",
       "      <td>0</td>\n",
       "      <td>0</td>\n",
       "      <td>1</td>\n",
       "      <td>0</td>\n",
       "      <td>Cooperator</td>\n",
       "      <td>Defector</td>\n",
       "      <td>CCCCCCCCCCCCCCCCCCCCDCCCCCCCDCCCCCCCCCCDCCDCCC...</td>\n",
       "      <td>409</td>\n",
       "      <td>-9000</td>\n",
       "      <td>2000</td>\n",
       "      <td>...</td>\n",
       "      <td>92</td>\n",
       "      <td>88</td>\n",
       "      <td>6</td>\n",
       "      <td>1720</td>\n",
       "      <td>86</td>\n",
       "      <td>6</td>\n",
       "      <td>1</td>\n",
       "      <td>86</td>\n",
       "      <td>6</td>\n",
       "      <td>1</td>\n",
       "    </tr>\n",
       "    <tr>\n",
       "      <th>1</th>\n",
       "      <td>0</td>\n",
       "      <td>1</td>\n",
       "      <td>0</td>\n",
       "      <td>0</td>\n",
       "      <td>Defector</td>\n",
       "      <td>Cooperator</td>\n",
       "      <td>DDDDDDDDDDDDDDDDDDDDCDDDDDDDDDDDDDDDDDDDDDDCDD...</td>\n",
       "      <td>9409</td>\n",
       "      <td>9000</td>\n",
       "      <td>2000</td>\n",
       "      <td>...</td>\n",
       "      <td>92</td>\n",
       "      <td>7</td>\n",
       "      <td>87</td>\n",
       "      <td>0</td>\n",
       "      <td>7</td>\n",
       "      <td>89</td>\n",
       "      <td>1717</td>\n",
       "      <td>5</td>\n",
       "      <td>87</td>\n",
       "      <td>0</td>\n",
       "    </tr>\n",
       "    <tr>\n",
       "      <th>2</th>\n",
       "      <td>1</td>\n",
       "      <td>0</td>\n",
       "      <td>1</td>\n",
       "      <td>1</td>\n",
       "      <td>Cooperator</td>\n",
       "      <td>Defector</td>\n",
       "      <td>CCCCCCCCCCCCCCCCCCCCCCCDCCCCCCCCCCCCCCCCCCCCCC...</td>\n",
       "      <td>399</td>\n",
       "      <td>-9055</td>\n",
       "      <td>2000</td>\n",
       "      <td>...</td>\n",
       "      <td>83</td>\n",
       "      <td>99</td>\n",
       "      <td>3</td>\n",
       "      <td>1736</td>\n",
       "      <td>76</td>\n",
       "      <td>2</td>\n",
       "      <td>0</td>\n",
       "      <td>77</td>\n",
       "      <td>6</td>\n",
       "      <td>1</td>\n",
       "    </tr>\n",
       "    <tr>\n",
       "      <th>3</th>\n",
       "      <td>1</td>\n",
       "      <td>1</td>\n",
       "      <td>0</td>\n",
       "      <td>1</td>\n",
       "      <td>Defector</td>\n",
       "      <td>Cooperator</td>\n",
       "      <td>DDDCDDDDDDDDDDDDDDDDDDDDDDDDDDDDDDDDDDDDDDDDDD...</td>\n",
       "      <td>9454</td>\n",
       "      <td>9055</td>\n",
       "      <td>2000</td>\n",
       "      <td>...</td>\n",
       "      <td>83</td>\n",
       "      <td>5</td>\n",
       "      <td>97</td>\n",
       "      <td>1</td>\n",
       "      <td>1</td>\n",
       "      <td>90</td>\n",
       "      <td>1722</td>\n",
       "      <td>8</td>\n",
       "      <td>75</td>\n",
       "      <td>0</td>\n",
       "    </tr>\n",
       "    <tr>\n",
       "      <th>4</th>\n",
       "      <td>2</td>\n",
       "      <td>0</td>\n",
       "      <td>1</td>\n",
       "      <td>2</td>\n",
       "      <td>Cooperator</td>\n",
       "      <td>Defector</td>\n",
       "      <td>CCCDCCCCCCCCCCCCDCDCCCCCCCCCCCCCCDCCCCCCCCCCCC...</td>\n",
       "      <td>406</td>\n",
       "      <td>-8995</td>\n",
       "      <td>2000</td>\n",
       "      <td>...</td>\n",
       "      <td>94</td>\n",
       "      <td>87</td>\n",
       "      <td>2</td>\n",
       "      <td>1712</td>\n",
       "      <td>95</td>\n",
       "      <td>9</td>\n",
       "      <td>0</td>\n",
       "      <td>88</td>\n",
       "      <td>6</td>\n",
       "      <td>1</td>\n",
       "    </tr>\n",
       "  </tbody>\n",
       "</table>\n",
       "<p>5 rows × 28 columns</p>\n",
       "</div>"
      ],
      "text/plain": [
       "   Interaction index  Player index  Opponent index  Repetition Player name  \\\n",
       "0                  0             0               1           0  Cooperator   \n",
       "1                  0             1               0           0    Defector   \n",
       "2                  1             0               1           1  Cooperator   \n",
       "3                  1             1               0           1    Defector   \n",
       "4                  2             0               1           2  Cooperator   \n",
       "\n",
       "  Opponent name                                            Actions  Score  \\\n",
       "0      Defector  CCCCCCCCCCCCCCCCCCCCDCCCCCCCDCCCCCCCCCCDCCDCCC...    409   \n",
       "1    Cooperator  DDDDDDDDDDDDDDDDDDDDCDDDDDDDDDDDDDDDDDDDDDDCDD...   9409   \n",
       "2      Defector  CCCCCCCCCCCCCCCCCCCCCCCDCCCCCCCCCCCCCCCCCCCCCC...    399   \n",
       "3    Cooperator  DDDCDDDDDDDDDDDDDDDDDDDDDDDDDDDDDDDDDDDDDDDDDD...   9454   \n",
       "4      Defector  CCCDCCCCCCCCCCCCDCDCCCCCCCCCCCCCCDCCCCCCCCCCCC...    406   \n",
       "\n",
       "   Score difference  Turns      ...       DD count  CC to C count  \\\n",
       "0             -9000   2000      ...             92             88   \n",
       "1              9000   2000      ...             92              7   \n",
       "2             -9055   2000      ...             83             99   \n",
       "3              9055   2000      ...             83              5   \n",
       "4             -8995   2000      ...             94             87   \n",
       "\n",
       "   CC to D count  CD to C count  CD to D count  DC to C count  DC to D count  \\\n",
       "0              6           1720             86              6              1   \n",
       "1             87              0              7             89           1717   \n",
       "2              3           1736             76              2              0   \n",
       "3             97              1              1             90           1722   \n",
       "4              2           1712             95              9              0   \n",
       "\n",
       "   DD to C count  DD to D count  Good partner  \n",
       "0             86              6             1  \n",
       "1              5             87             0  \n",
       "2             77              6             1  \n",
       "3              8             75             0  \n",
       "4             88              6             1  \n",
       "\n",
       "[5 rows x 28 columns]"
      ]
     },
     "execution_count": 13,
     "metadata": {},
     "output_type": "execute_result"
    }
   ],
   "source": [
    "df.head()"
   ]
  },
  {
   "cell_type": "code",
   "execution_count": 11,
   "metadata": {},
   "outputs": [
    {
     "data": {
      "text/plain": [
       "11/60"
      ]
     },
     "execution_count": 11,
     "metadata": {},
     "output_type": "execute_result"
    }
   ],
   "source": [
    "import sympy as sym\n",
    "sym.S(7) / 60 + sym.S(1) / 15"
   ]
  },
  {
   "cell_type": "code",
   "execution_count": null,
   "metadata": {},
   "outputs": [],
   "source": []
  }
 ],
 "metadata": {
  "anaconda-cloud": {},
  "kernelspec": {
   "display_name": "Python [conda env:testing-zd]",
   "language": "python",
   "name": "conda-env-testing-zd-py"
  },
  "language_info": {
   "codemirror_mode": {
    "name": "ipython",
    "version": 3
   },
   "file_extension": ".py",
   "mimetype": "text/x-python",
   "name": "python",
   "nbconvert_exporter": "python",
   "pygments_lexer": "ipython3",
   "version": "3.6.5"
  }
 },
 "nbformat": 4,
 "nbformat_minor": 2
}
