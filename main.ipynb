{
 "cells": [
  {
   "cell_type": "code",
   "execution_count": 1,
   "metadata": {},
   "outputs": [],
   "source": [
    "import pandas as pd\n",
    "import sympy as sym\n",
    "import numpy as np\n",
    "import matplotlib.pyplot as plt\n",
    "\n",
    "import testzd as zd"
   ]
  },
  {
   "cell_type": "markdown",
   "metadata": {},
   "source": [
    "# Investigate whether or not a strategy is zero determinant.\n",
    "\n",
    "In [1], given a match between 2 memory one strategies the concept of Zero Determinant strategies is introduced. This result showed that a player $p\\in\\mathbb{R}^4$ against a player $q\\in\\mathbb{R}^4$ could force a linear relationship between the scores.\n",
    "\n",
    "Assuming the following:\n",
    "\n",
    "- The utilities for player $p$: $S_x = (R, S, T, P)$ and for player $q$: $S_y = (R, T, S, P)$.\n",
    "- The normalised long run score for player $p$: $s_x$ and for player $q$: $s_y$.\n",
    "- Given $p=(p_1, p_2, p_3, p_4)$ a transformed (but equivalent) vector: $\\tilde p=(p_1 - 1, p_2 - 1, p_3, p_4)$, similarly: $\\tilde q=(1 - q_1, 1 - q_2, q_3, q_4)$\n",
    "\n",
    "The main result of [1] is that:\n",
    "\n",
    "if $\\tilde p = \\alpha S_x + \\beta S_y + \\gamma 1$ **or** if $\\tilde q = \\alpha S_x + \\beta S_y + \\gamma 1$ then:\n",
    "\n",
    "$$\n",
    "\\alpha s_x + \\beta s_y + \\gamma 1 = 0\n",
    "$$\n",
    "\n",
    "where $\\alpha, \\beta, \\gamma \\in \\mathbb{R}$\n",
    "\n",
    "The question arises:\n",
    "\n",
    "**Given a strategy $p$, is it a zero determinant strategy?**\n",
    "\n",
    "This is equivalent to finding $\\alpha, \\beta, \\gamma \\in \\mathbb{R}$ such that $\\tilde p = \\alpha S_x + \\beta S_y + \\gamma 1$.\n",
    "\n",
    "Recall that $\\tilde p, S_x, S_y, 1\\in\\mathbb{R}^{4\\times 1}$ so this corresponds to a linear system of 4 equations on three variables.\n",
    "\n",
    "$$\\tilde p=Mx$$\n",
    "\n",
    "Where:\n",
    "\n",
    "$$\n",
    "M = \\begin{pmatrix}S_x, S_y, 1\\end{pmatrix}\\in\\mathbb{R}^{4\\times 3}\n",
    "$$\n",
    "\n",
    "As an example consider the `extort-2` strategy defined in [2]. This is given by:\n",
    "\n",
    "$$p=(8/9, 1/2, 1/3, 0)$$\n",
    "\n",
    "it is defined to ensure:\n",
    "\n",
    "$$\n",
    "\\begin{aligned}\n",
    "\\alpha s_x - P &= 2(s_y - P)\\\\\n",
    "\\alpha s_x - 2s_y + P&=0\\\\\n",
    "\\end{aligned}\n",
    "$$\n",
    "\n",
    "Let us solve $Mx=\\tilde p$"
   ]
  },
  {
   "cell_type": "code",
   "execution_count": 2,
   "metadata": {},
   "outputs": [],
   "source": [
    "R, S, T, P = sym.S(3), sym.S(0), sym.S(5), sym.S(1)\n",
    "\n",
    "tilde_p = sym.Matrix([sym.S(8) / 9 - 1, sym.S(1) / 2 - 1, sym.S(1) / 3, sym.S(0)])\n",
    "M = sym.Matrix([[R, R, 1], \n",
    "                [S, T, 1],\n",
    "                [T, S, 1], \n",
    "                [P, P, 1]])"
   ]
  },
  {
   "cell_type": "code",
   "execution_count": 3,
   "metadata": {},
   "outputs": [
    {
     "data": {
      "text/plain": [
       "{(1/18, -1/9, 1/18)}"
      ]
     },
     "execution_count": 3,
     "metadata": {},
     "output_type": "execute_result"
    }
   ],
   "source": [
    "system = (M, tilde_p)\n",
    "symbols = sym.symbols(\"alpha, beta, gamma\")\n",
    "sym.linsolve(system, symbols)"
   ]
  },
  {
   "cell_type": "markdown",
   "metadata": {},
   "source": [
    "This gives $\\alpha = 1 / 18$, $\\beta = -1/9$ and $\\gamma = 1 / 18$ which ensures:\n",
    "\n",
    "$$\n",
    "1/18 s_x -1/9 s_y + 1/18 = 0\n",
    "$$\n",
    "\n",
    "multiplying this by 18 gives:\n",
    "\n",
    "\n",
    "$$\n",
    "s_x -2 s_y + 1 = 0\n",
    "$$\n",
    "\n",
    "which is the relationship described above."
   ]
  },
  {
   "cell_type": "markdown",
   "metadata": {},
   "source": [
    "Note that in practice, a vector $p$ might not be defined exactly: indeed it could be measured from observation. Thus: $p\\notin\\mathbb{Q}^{4\\times 1}$ but $p\\in\\mathbb{R}^{4\\times 1}$. As such that linear equations may no longer have exact solutions and/or indeed have no solutions at all as $M$ is not a square matrix.\n",
    "\n",
    "A practical approach to checking if a strategy is ZD or not makes use of the continuity of the determinant of a matrix. As the calculation of a matrix is a linear combination of its elements, a matrix with determinant \"almost\" zero is close to a matrix that has zero determinant.\n",
    "\n",
    "## $\\epsilon$-ZD strategies\n",
    "\n",
    "We define:\n",
    "\n",
    "$$\\bar M = M_{(4; 4)}$$\n",
    "\n",
    "The matrix $\\bar M\\in\\mathbb{R}^{3\\times 3}$ is the matrix $M$ with the fourth column and row removed.\n",
    "\n",
    "Similarly:\n",
    "\n",
    "$$\\bar p = \\tilde p_{(4)}$$\n",
    "\n",
    "Solving \n",
    "\n",
    "$$\\bar M x = \\bar p$$ \n",
    "\n",
    "gives $\\bar x$ and if $|M_4\\bar x - \\tilde p_4| < \\epsilon$ for some $\\epsilon > 0$ then $p$ is $\\epsilon-ZD$."
   ]
  },
  {
   "cell_type": "markdown",
   "metadata": {},
   "source": [
    "Let us confirm that `Extort-2` is $\\epsilon$-ZD with $\\epsilon=10 ^ {-7}$:"
   ]
  },
  {
   "cell_type": "code",
   "execution_count": 4,
   "metadata": {},
   "outputs": [
    {
     "data": {
      "text/plain": [
       "True"
      ]
     },
     "execution_count": 4,
     "metadata": {},
     "output_type": "execute_result"
    }
   ],
   "source": [
    "p = np.array([8 / 9, 1 / 2, 1 / 3, 0])\n",
    "zd.is_epsilon_ZD(p)"
   ]
  },
  {
   "cell_type": "markdown",
   "metadata": {},
   "source": [
    "Note that the following vector is not:\n",
    "\n",
    "$$p = (8 / 9, 1, 1 / 3, 0)$$"
   ]
  },
  {
   "cell_type": "code",
   "execution_count": 5,
   "metadata": {},
   "outputs": [
    {
     "data": {
      "text/plain": [
       "False"
      ]
     },
     "execution_count": 5,
     "metadata": {},
     "output_type": "execute_result"
    }
   ],
   "source": [
    "zd.is_epsilon_ZD(np.array([8 / 9, 1, 1 / 3, 0]))"
   ]
  },
  {
   "cell_type": "markdown",
   "metadata": {},
   "source": [
    "## Empirical observation\n",
    "\n",
    "Let us consider the latest tournament of the Axelrod project:"
   ]
  },
  {
   "cell_type": "code",
   "execution_count": 6,
   "metadata": {},
   "outputs": [],
   "source": [
    "df_standard = pd.read_csv(\"http://axelrod-tournament.readthedocs.io/en/latest/_downloads/std_summary.csv\")\n",
    "df_noisy = pd.read_csv(\"http://axelrod-tournament.readthedocs.io/en/latest/_downloads/noisy_summary.csv\")\n",
    "df_probend = pd.read_csv(\"http://axelrod-tournament.readthedocs.io/en/latest/_downloads/probend_summary.csv\")"
   ]
  },
  {
   "cell_type": "code",
   "execution_count": 7,
   "metadata": {},
   "outputs": [],
   "source": [
    "columns = [\"CC_to_C_rate\", \"CD_to_C_rate\", \"DC_to_C_rate\", \"DD_to_C_rate\"]\n",
    "epsilons = 10 ** np.linspace(-1, -4, 100)\n",
    "counts = {\"standard\": [], \"noisy\": [], \"probend\": []}\n",
    "min_ranks = {\"standard\": [], \"noisy\": [], \"probend\": []}\n",
    "dfs = {\"standard\": df_standard, \"noisy\": df_noisy, \"probend\": df_probend}\n",
    "\n",
    "for key, df in dfs.items():\n",
    "    for epsilon in epsilons:\n",
    "        played_ZD = []\n",
    "        \n",
    "        for _, row in df.iterrows():\n",
    "            p = np.array(row[columns])\n",
    "            played_ZD.append(zd.is_epsilon_ZD(p, epsilon=epsilon))\n",
    "            \n",
    "        counts[key].append(sum(played_ZD))\n",
    "        zd_df = df[played_ZD]\n",
    "        \n",
    "        min_ranks[key].append(zd_df[\"Rank\"].min())"
   ]
  },
  {
   "cell_type": "code",
   "execution_count": 8,
   "metadata": {},
   "outputs": [
    {
     "data": {
      "image/png": "[encoded data removed]",
      "text/plain": [
       "<Figure size 432x288 with 1 Axes>"
      ]
     },
     "metadata": {},
     "output_type": "display_data"
    }
   ],
   "source": [
    "fig = plt.figure()\n",
    "ax = plt.gca()\n",
    "\n",
    "for key, _ in dfs.items():\n",
    "    ax.plot(epsilons, counts[key], label=key);\n",
    "ax.set_xscale('log')\n",
    "plt.legend()\n",
    "plt.xlabel(\"$\\log(\\epsilon)$\")\n",
    "plt.ylabel(\"Number of $\\epsilon$-ZD strategies\")\n",
    "plt.show();"
   ]
  },
  {
   "cell_type": "code",
   "execution_count": 9,
   "metadata": {},
   "outputs": [
    {
     "data": {
      "image/png": "[encoded data removed]",
      "text/plain": [
       "<Figure size 432x288 with 1 Axes>"
      ]
     },
     "metadata": {},
     "output_type": "display_data"
    }
   ],
   "source": [
    "fig = plt.figure()\n",
    "ax = plt.gca()\n",
    "\n",
    "for key, _ in dfs.items():\n",
    "    ax.plot(epsilons, min_ranks[key], label=key);\n",
    "ax.set_xscale('log')\n",
    "plt.legend()\n",
    "plt.xlabel(\"$\\epsilon$\")\n",
    "plt.ylabel(\"Rank of best ranking $\\epsilon$-ZD strategy\")\n",
    "plt.show();"
   ]
  },
  {
   "cell_type": "markdown",
   "metadata": {},
   "source": [
    "## References\n",
    "\n",
    "[1] Press, William H., and Freeman J. Dyson. \"Iterated Prisoner’s Dilemma contains strategies that dominate any evolutionary opponent.\" Proceedings of the National Academy of Sciences 109.26 (2012): 10409-10413\n",
    "\n",
    "[2] Stewart, Alexander J., and Joshua B. Plotkin. \"Extortion and cooperation in the Prisoner’s Dilemma.\" Proceedings of the National Academy of Sciences 109.26 (2012): 10134-10135."
   ]
  }
 ],
 "metadata": {
  "anaconda-cloud": {},
  "kernelspec": {
   "display_name": "Python [conda env:testing-zd]",
   "language": "python",
   "name": "conda-env-testing-zd-py"
  },
  "language_info": {
   "codemirror_mode": {
    "name": "ipython",
    "version": 3
   },
   "file_extension": ".py",
   "mimetype": "text/x-python",
   "name": "python",
   "nbconvert_exporter": "python",
   "pygments_lexer": "ipython3",
   "version": "3.6.5"
  }
 },
 "nbformat": 4,
 "nbformat_minor": 2
}
